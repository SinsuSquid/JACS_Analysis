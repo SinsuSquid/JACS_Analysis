{
 "cells": [
  {
   "cell_type": "markdown",
   "id": "A4mzyuS2nYWg",
   "metadata": {
    "colab": {
     "base_uri": "https://localhost:8080/"
    },
    "id": "A4mzyuS2nYWg",
    "outputId": "59e0a238-7bb0-46bd-f205-2f0bfad67dcc"
   },
   "source": [
    "```\n",
    "from google.colab import drive\n",
    "drive.mount('/content/drive')\n",
    "%cd /content/drive/MyDrive/'Colab Notebooks'/STS2011\n",
    "```"
   ]
  },
  {
   "cell_type": "markdown",
   "id": "7c0c585d",
   "metadata": {
    "id": "7c0c585d"
   },
   "source": [
    "# JACS 논문 Data를 활용한 화학 연구 동향의 분석"
   ]
  },
  {
   "cell_type": "markdown",
   "id": "38f87aa4",
   "metadata": {
    "id": "38f87aa4"
   },
   "source": [
    "## Data의 가공"
   ]
  },
  {
   "cell_type": "markdown",
   "id": "f8d388f8",
   "metadata": {
    "id": "f8d388f8"
   },
   "source": [
    "### database.sqlite\n",
    "- Tables\n",
    "    - Authors\n",
    "        - authorID : index\n",
    "        - title : author의 title - column 전체가 empty\n",
    "        - forename\n",
    "        - initials\n",
    "        - surname\n",
    "        - orcidID : author의 orcidID - column 전체가 empty\n",
    "    - Paper_Authors\n",
    "        - paperID\n",
    "        - authorID\n",
    "    - Papers\n",
    "        - paperID : index\n",
    "        - DOI : 논문의 DOI 정보\n",
    "        - type : 논문의 성격\n",
    "            - Article : 51%\n",
    "            - Communication : 45%\n",
    "            - Other : 4%\n",
    "        - title : 논문의 제목\n",
    "        - abstract : 논문의 abstract\n",
    "        - volume : 논문이 개제된 journal의 volume #\n",
    "        - issue : 논문이 개제된 journal의 issure #\n",
    "        - startpg : 논문의 시작 page\n",
    "        - endpg ; 논문의 마지막 page\n",
    "        - received : 논문이 접수된 일자\n",
    "        - publishedOnline : 논문의 온라인 공개 일자\n",
    "        - publishedPrint : 논문의 인쇄 일자\n",
    "        - authorChoiceOA\n",
    "        - editorChoiceOA\n",
    "        - views : 논문 조회수\n",
    "        - citations : 논문 인용 횟수\n",
    "        - scrapeDT : scrap된 날짜"
   ]
  },
  {
   "cell_type": "code",
   "execution_count": 1,
   "id": "d3b56bb9",
   "metadata": {
    "id": "d3b56bb9"
   },
   "outputs": [],
   "source": [
    "import sqlite3\n",
    "# SQL DataBase file에 access\n",
    "# cursor를 이용한 접속\n",
    "con = sqlite3.connect('./archive/database.sqlite')\n",
    "cur = con.cursor()"
   ]
  },
  {
   "cell_type": "code",
   "execution_count": 2,
   "id": "c34e4e2a",
   "metadata": {
    "colab": {
     "base_uri": "https://localhost:8080/"
    },
    "id": "c34e4e2a",
    "outputId": "81fade6d-6969-44e2-e089-046ec55aa3df"
   },
   "outputs": [
    {
     "name": "stdout",
     "output_type": "stream",
     "text": [
      "[('Roberto',), ('Benedetto',), ('Bahman',), ('Maura',), ('James',)]\n"
     ]
    }
   ],
   "source": [
    "# File 불러오기가 제대로 동작하는지 확인\n",
    "try:\n",
    "    print(list(cur.execute(\"SELECT forename FROM Authors\"))[:5])\n",
    "except:\n",
    "    print(\"Something wrong happened while loading the file.\")"
   ]
  },
  {
   "cell_type": "markdown",
   "id": "273ab41a",
   "metadata": {
    "id": "273ab41a"
   },
   "source": [
    "### SQL file을 DataFrame으로 불러오기"
   ]
  },
  {
   "cell_type": "code",
   "execution_count": 3,
   "id": "241395a0",
   "metadata": {
    "colab": {
     "base_uri": "https://localhost:8080/",
     "height": 238
    },
    "id": "241395a0",
    "outputId": "4fe23f1b-667b-425e-d687-d80dabb9b16c"
   },
   "outputs": [
    {
     "data": {
      "text/html": [
       "<div>\n",
       "<style scoped>\n",
       "    .dataframe tbody tr th:only-of-type {\n",
       "        vertical-align: middle;\n",
       "    }\n",
       "\n",
       "    .dataframe tbody tr th {\n",
       "        vertical-align: top;\n",
       "    }\n",
       "\n",
       "    .dataframe thead th {\n",
       "        text-align: right;\n",
       "    }\n",
       "</style>\n",
       "<table border=\"1\" class=\"dataframe\">\n",
       "  <thead>\n",
       "    <tr style=\"text-align: right;\">\n",
       "      <th></th>\n",
       "      <th>title</th>\n",
       "      <th>forename</th>\n",
       "      <th>initials</th>\n",
       "      <th>surname</th>\n",
       "      <th>orcidID</th>\n",
       "    </tr>\n",
       "    <tr>\n",
       "      <th>authorID</th>\n",
       "      <th></th>\n",
       "      <th></th>\n",
       "      <th></th>\n",
       "      <th></th>\n",
       "      <th></th>\n",
       "    </tr>\n",
       "  </thead>\n",
       "  <tbody>\n",
       "    <tr>\n",
       "      <th>1</th>\n",
       "      <td>None</td>\n",
       "      <td>Roberto</td>\n",
       "      <td></td>\n",
       "      <td>Pellicciari</td>\n",
       "      <td>None</td>\n",
       "    </tr>\n",
       "    <tr>\n",
       "      <th>2</th>\n",
       "      <td>None</td>\n",
       "      <td>Benedetto</td>\n",
       "      <td></td>\n",
       "      <td>Natalini</td>\n",
       "      <td>None</td>\n",
       "    </tr>\n",
       "    <tr>\n",
       "      <th>3</th>\n",
       "      <td>None</td>\n",
       "      <td>Bahman</td>\n",
       "      <td>M.</td>\n",
       "      <td>Sadeghpour</td>\n",
       "      <td>None</td>\n",
       "    </tr>\n",
       "    <tr>\n",
       "      <th>4</th>\n",
       "      <td>None</td>\n",
       "      <td>Maura</td>\n",
       "      <td></td>\n",
       "      <td>Marinozzi</td>\n",
       "      <td>None</td>\n",
       "    </tr>\n",
       "    <tr>\n",
       "      <th>5</th>\n",
       "      <td>None</td>\n",
       "      <td>James</td>\n",
       "      <td>P.</td>\n",
       "      <td>Snyder</td>\n",
       "      <td>None</td>\n",
       "    </tr>\n",
       "  </tbody>\n",
       "</table>\n",
       "</div>"
      ],
      "text/plain": [
       "         title   forename initials      surname orcidID\n",
       "authorID                                               \n",
       "1         None    Roberto           Pellicciari    None\n",
       "2         None  Benedetto              Natalini    None\n",
       "3         None     Bahman       M.   Sadeghpour    None\n",
       "4         None      Maura             Marinozzi    None\n",
       "5         None      James       P.       Snyder    None"
      ]
     },
     "execution_count": 3,
     "metadata": {},
     "output_type": "execute_result"
    }
   ],
   "source": [
    "import pandas as pd\n",
    "# SQL query로부터 dataframe의 생성\n",
    "authors = pd.read_sql_query(\"SELECT * FROM Authors\",con,index_col = 'authorID')\n",
    "authors.head()"
   ]
  },
  {
   "cell_type": "code",
   "execution_count": 4,
   "id": "4d88aca2",
   "metadata": {
    "colab": {
     "base_uri": "https://localhost:8080/"
    },
    "id": "4d88aca2",
    "outputId": "eefa539f-0458-41b4-b116-e0d012a3901e"
   },
   "outputs": [
    {
     "name": "stdout",
     "output_type": "stream",
     "text": [
      "<class 'pandas.core.frame.DataFrame'>\n",
      "Int64Index: 120670 entries, 1 to 120670\n",
      "Data columns (total 5 columns):\n",
      " #   Column    Non-Null Count   Dtype \n",
      "---  ------    --------------   ----- \n",
      " 0   title     0 non-null       object\n",
      " 1   forename  120670 non-null  object\n",
      " 2   initials  120670 non-null  object\n",
      " 3   surname   120670 non-null  object\n",
      " 4   orcidID   0 non-null       object\n",
      "dtypes: object(5)\n",
      "memory usage: 5.5+ MB\n"
     ]
    }
   ],
   "source": [
    "authors.info()"
   ]
  },
  {
   "cell_type": "markdown",
   "id": "2c207758",
   "metadata": {
    "id": "2c207758"
   },
   "source": [
    "'title', 'orcidID' column은 non-null count가 0임을 확인, 불필요한 정보임을 알 수 있음"
   ]
  },
  {
   "cell_type": "code",
   "execution_count": 5,
   "id": "c914feb6",
   "metadata": {
    "colab": {
     "base_uri": "https://localhost:8080/",
     "height": 238
    },
    "id": "c914feb6",
    "outputId": "3770e57b-a108-4c29-e75b-36aa0ae2fc15"
   },
   "outputs": [
    {
     "data": {
      "text/html": [
       "<div>\n",
       "<style scoped>\n",
       "    .dataframe tbody tr th:only-of-type {\n",
       "        vertical-align: middle;\n",
       "    }\n",
       "\n",
       "    .dataframe tbody tr th {\n",
       "        vertical-align: top;\n",
       "    }\n",
       "\n",
       "    .dataframe thead th {\n",
       "        text-align: right;\n",
       "    }\n",
       "</style>\n",
       "<table border=\"1\" class=\"dataframe\">\n",
       "  <thead>\n",
       "    <tr style=\"text-align: right;\">\n",
       "      <th></th>\n",
       "      <th>forename</th>\n",
       "      <th>initials</th>\n",
       "      <th>surname</th>\n",
       "    </tr>\n",
       "    <tr>\n",
       "      <th>authorID</th>\n",
       "      <th></th>\n",
       "      <th></th>\n",
       "      <th></th>\n",
       "    </tr>\n",
       "  </thead>\n",
       "  <tbody>\n",
       "    <tr>\n",
       "      <th>1</th>\n",
       "      <td>Roberto</td>\n",
       "      <td></td>\n",
       "      <td>Pellicciari</td>\n",
       "    </tr>\n",
       "    <tr>\n",
       "      <th>2</th>\n",
       "      <td>Benedetto</td>\n",
       "      <td></td>\n",
       "      <td>Natalini</td>\n",
       "    </tr>\n",
       "    <tr>\n",
       "      <th>3</th>\n",
       "      <td>Bahman</td>\n",
       "      <td>M.</td>\n",
       "      <td>Sadeghpour</td>\n",
       "    </tr>\n",
       "    <tr>\n",
       "      <th>4</th>\n",
       "      <td>Maura</td>\n",
       "      <td></td>\n",
       "      <td>Marinozzi</td>\n",
       "    </tr>\n",
       "    <tr>\n",
       "      <th>5</th>\n",
       "      <td>James</td>\n",
       "      <td>P.</td>\n",
       "      <td>Snyder</td>\n",
       "    </tr>\n",
       "  </tbody>\n",
       "</table>\n",
       "</div>"
      ],
      "text/plain": [
       "           forename initials      surname\n",
       "authorID                                 \n",
       "1           Roberto           Pellicciari\n",
       "2         Benedetto              Natalini\n",
       "3            Bahman       M.   Sadeghpour\n",
       "4             Maura             Marinozzi\n",
       "5             James       P.       Snyder"
      ]
     },
     "execution_count": 5,
     "metadata": {},
     "output_type": "execute_result"
    }
   ],
   "source": [
    "# DataFrame으로부터 불필요한 column의 삭제\n",
    "authors = authors.drop(columns=['title','orcidID'])\n",
    "authors.head()"
   ]
  },
  {
   "cell_type": "code",
   "execution_count": 6,
   "id": "9c34b10a",
   "metadata": {
    "id": "9c34b10a"
   },
   "outputs": [],
   "source": [
    "authors.to_csv('authors.csv',sep='\\t')"
   ]
  },
  {
   "cell_type": "code",
   "execution_count": 7,
   "id": "3d739940",
   "metadata": {
    "colab": {
     "base_uri": "https://localhost:8080/",
     "height": 438
    },
    "id": "3d739940",
    "outputId": "0e7bbc00-5ddb-4752-cfe0-b1c925d1be7b"
   },
   "outputs": [
    {
     "data": {
      "text/html": [
       "<div>\n",
       "<style scoped>\n",
       "    .dataframe tbody tr th:only-of-type {\n",
       "        vertical-align: middle;\n",
       "    }\n",
       "\n",
       "    .dataframe tbody tr th {\n",
       "        vertical-align: top;\n",
       "    }\n",
       "\n",
       "    .dataframe thead th {\n",
       "        text-align: right;\n",
       "    }\n",
       "</style>\n",
       "<table border=\"1\" class=\"dataframe\">\n",
       "  <thead>\n",
       "    <tr style=\"text-align: right;\">\n",
       "      <th></th>\n",
       "      <th>DOI</th>\n",
       "      <th>type</th>\n",
       "      <th>title</th>\n",
       "      <th>abstract</th>\n",
       "      <th>volume</th>\n",
       "      <th>issue</th>\n",
       "      <th>startpg</th>\n",
       "      <th>endpg</th>\n",
       "      <th>received</th>\n",
       "      <th>publishedOnline</th>\n",
       "      <th>publishedPrint</th>\n",
       "      <th>authorChoiceOA</th>\n",
       "      <th>editorChoiceOA</th>\n",
       "      <th>views</th>\n",
       "      <th>citations</th>\n",
       "      <th>scrapeDT</th>\n",
       "    </tr>\n",
       "    <tr>\n",
       "      <th>paperID</th>\n",
       "      <th></th>\n",
       "      <th></th>\n",
       "      <th></th>\n",
       "      <th></th>\n",
       "      <th></th>\n",
       "      <th></th>\n",
       "      <th></th>\n",
       "      <th></th>\n",
       "      <th></th>\n",
       "      <th></th>\n",
       "      <th></th>\n",
       "      <th></th>\n",
       "      <th></th>\n",
       "      <th></th>\n",
       "      <th></th>\n",
       "      <th></th>\n",
       "    </tr>\n",
       "  </thead>\n",
       "  <tbody>\n",
       "    <tr>\n",
       "      <th>1</th>\n",
       "      <td>10.1021/ja950971s</td>\n",
       "      <td>Article</td>\n",
       "      <td>The Reaction of α-Diazo-β-hydroxy Esters with ...</td>\n",
       "      <td>Cyclic ethyl 2-diazo-3-hydroxy carboxylates we...</td>\n",
       "      <td>1</td>\n",
       "      <td>118</td>\n",
       "      <td>1</td>\n",
       "      <td>12</td>\n",
       "      <td>1995-03-24 00:00:00.000000</td>\n",
       "      <td>1996-01-10 00:00:00.000000</td>\n",
       "      <td>1996-01-01 00:00:00.000000</td>\n",
       "      <td>0</td>\n",
       "      <td>0</td>\n",
       "      <td>1872</td>\n",
       "      <td>59</td>\n",
       "      <td>2017-07-06 23:29:12.618347</td>\n",
       "    </tr>\n",
       "    <tr>\n",
       "      <th>2</th>\n",
       "      <td>10.1021/ja950133y</td>\n",
       "      <td>Article</td>\n",
       "      <td>Absolute Kinetics of Aminium Radical Reactions...</td>\n",
       "      <td>Photolysis of N-nitrosamines in acidic acetoni...</td>\n",
       "      <td>1</td>\n",
       "      <td>118</td>\n",
       "      <td>13</td>\n",
       "      <td>19</td>\n",
       "      <td>1995-01-17 00:00:00.000000</td>\n",
       "      <td>1996-01-10 00:00:00.000000</td>\n",
       "      <td>1996-01-01 00:00:00.000000</td>\n",
       "      <td>0</td>\n",
       "      <td>0</td>\n",
       "      <td>979</td>\n",
       "      <td>41</td>\n",
       "      <td>2017-07-06 23:29:07.395517</td>\n",
       "    </tr>\n",
       "    <tr>\n",
       "      <th>3</th>\n",
       "      <td>10.1021/ja952003v</td>\n",
       "      <td>Article</td>\n",
       "      <td>Solvent Dependent Leaving Group Fluorine Kinet...</td>\n",
       "      <td>Fluorine kinetic isotope effects (F KIEs) have...</td>\n",
       "      <td>1</td>\n",
       "      <td>118</td>\n",
       "      <td>20</td>\n",
       "      <td>23</td>\n",
       "      <td>1995-06-20 00:00:00.000000</td>\n",
       "      <td>1996-01-10 00:00:00.000000</td>\n",
       "      <td>1996-01-01 00:00:00.000000</td>\n",
       "      <td>0</td>\n",
       "      <td>0</td>\n",
       "      <td>481</td>\n",
       "      <td>23</td>\n",
       "      <td>2017-07-06 23:28:25.790125</td>\n",
       "    </tr>\n",
       "    <tr>\n",
       "      <th>4</th>\n",
       "      <td>10.1021/ja951686b</td>\n",
       "      <td>Article</td>\n",
       "      <td>XAS Structural Comparisons of Reversibly Inter...</td>\n",
       "      <td>In this study on model compounds for the iron\\...</td>\n",
       "      <td>1</td>\n",
       "      <td>118</td>\n",
       "      <td>24</td>\n",
       "      <td>34</td>\n",
       "      <td>1995-05-24 00:00:00.000000</td>\n",
       "      <td>1996-01-10 00:00:00.000000</td>\n",
       "      <td>1996-01-01 00:00:00.000000</td>\n",
       "      <td>0</td>\n",
       "      <td>0</td>\n",
       "      <td>456</td>\n",
       "      <td>61</td>\n",
       "      <td>2017-07-06 23:29:07.943408</td>\n",
       "    </tr>\n",
       "    <tr>\n",
       "      <th>5</th>\n",
       "      <td>10.1021/ja952470c</td>\n",
       "      <td>Article</td>\n",
       "      <td>Toward an Understanding of the High Enantiosel...</td>\n",
       "      <td>A systematic study of the possible diastereome...</td>\n",
       "      <td>1</td>\n",
       "      <td>118</td>\n",
       "      <td>35</td>\n",
       "      <td>42</td>\n",
       "      <td>1995-07-24 00:00:00.000000</td>\n",
       "      <td>1996-01-10 00:00:00.000000</td>\n",
       "      <td>1996-01-01 00:00:00.000000</td>\n",
       "      <td>0</td>\n",
       "      <td>0</td>\n",
       "      <td>769</td>\n",
       "      <td>52</td>\n",
       "      <td>2017-07-06 23:28:53.729800</td>\n",
       "    </tr>\n",
       "  </tbody>\n",
       "</table>\n",
       "</div>"
      ],
      "text/plain": [
       "                       DOI     type  \\\n",
       "paperID                               \n",
       "1        10.1021/ja950971s  Article   \n",
       "2        10.1021/ja950133y  Article   \n",
       "3        10.1021/ja952003v  Article   \n",
       "4        10.1021/ja951686b  Article   \n",
       "5        10.1021/ja952470c  Article   \n",
       "\n",
       "                                                     title  \\\n",
       "paperID                                                      \n",
       "1        The Reaction of α-Diazo-β-hydroxy Esters with ...   \n",
       "2        Absolute Kinetics of Aminium Radical Reactions...   \n",
       "3        Solvent Dependent Leaving Group Fluorine Kinet...   \n",
       "4        XAS Structural Comparisons of Reversibly Inter...   \n",
       "5        Toward an Understanding of the High Enantiosel...   \n",
       "\n",
       "                                                  abstract  volume  issue  \\\n",
       "paperID                                                                     \n",
       "1        Cyclic ethyl 2-diazo-3-hydroxy carboxylates we...       1    118   \n",
       "2        Photolysis of N-nitrosamines in acidic acetoni...       1    118   \n",
       "3        Fluorine kinetic isotope effects (F KIEs) have...       1    118   \n",
       "4        In this study on model compounds for the iron\\...       1    118   \n",
       "5        A systematic study of the possible diastereome...       1    118   \n",
       "\n",
       "         startpg  endpg                    received  \\\n",
       "paperID                                               \n",
       "1              1     12  1995-03-24 00:00:00.000000   \n",
       "2             13     19  1995-01-17 00:00:00.000000   \n",
       "3             20     23  1995-06-20 00:00:00.000000   \n",
       "4             24     34  1995-05-24 00:00:00.000000   \n",
       "5             35     42  1995-07-24 00:00:00.000000   \n",
       "\n",
       "                    publishedOnline              publishedPrint  \\\n",
       "paperID                                                           \n",
       "1        1996-01-10 00:00:00.000000  1996-01-01 00:00:00.000000   \n",
       "2        1996-01-10 00:00:00.000000  1996-01-01 00:00:00.000000   \n",
       "3        1996-01-10 00:00:00.000000  1996-01-01 00:00:00.000000   \n",
       "4        1996-01-10 00:00:00.000000  1996-01-01 00:00:00.000000   \n",
       "5        1996-01-10 00:00:00.000000  1996-01-01 00:00:00.000000   \n",
       "\n",
       "         authorChoiceOA  editorChoiceOA  views  citations  \\\n",
       "paperID                                                     \n",
       "1                     0               0   1872         59   \n",
       "2                     0               0    979         41   \n",
       "3                     0               0    481         23   \n",
       "4                     0               0    456         61   \n",
       "5                     0               0    769         52   \n",
       "\n",
       "                           scrapeDT  \n",
       "paperID                              \n",
       "1        2017-07-06 23:29:12.618347  \n",
       "2        2017-07-06 23:29:07.395517  \n",
       "3        2017-07-06 23:28:25.790125  \n",
       "4        2017-07-06 23:29:07.943408  \n",
       "5        2017-07-06 23:28:53.729800  "
      ]
     },
     "execution_count": 7,
     "metadata": {},
     "output_type": "execute_result"
    }
   ],
   "source": [
    "papers = pd.read_sql_query(\"SELECT * FROM Papers\",con,index_col = 'paperID')\n",
    "papers.head()"
   ]
  },
  {
   "cell_type": "code",
   "execution_count": 8,
   "id": "f80057e0",
   "metadata": {
    "colab": {
     "base_uri": "https://localhost:8080/",
     "height": 238
    },
    "id": "f80057e0",
    "outputId": "f0ace1d0-2ac0-4961-a7fb-649b5643c315",
    "scrolled": true
   },
   "outputs": [
    {
     "data": {
      "text/html": [
       "<div>\n",
       "<style scoped>\n",
       "    .dataframe tbody tr th:only-of-type {\n",
       "        vertical-align: middle;\n",
       "    }\n",
       "\n",
       "    .dataframe tbody tr th {\n",
       "        vertical-align: top;\n",
       "    }\n",
       "\n",
       "    .dataframe thead th {\n",
       "        text-align: right;\n",
       "    }\n",
       "</style>\n",
       "<table border=\"1\" class=\"dataframe\">\n",
       "  <thead>\n",
       "    <tr style=\"text-align: right;\">\n",
       "      <th></th>\n",
       "      <th>type</th>\n",
       "      <th>title</th>\n",
       "      <th>volume</th>\n",
       "      <th>issue</th>\n",
       "      <th>views</th>\n",
       "      <th>citations</th>\n",
       "      <th>publishedOnline</th>\n",
       "    </tr>\n",
       "    <tr>\n",
       "      <th>paperID</th>\n",
       "      <th></th>\n",
       "      <th></th>\n",
       "      <th></th>\n",
       "      <th></th>\n",
       "      <th></th>\n",
       "      <th></th>\n",
       "      <th></th>\n",
       "    </tr>\n",
       "  </thead>\n",
       "  <tbody>\n",
       "    <tr>\n",
       "      <th>1</th>\n",
       "      <td>Article</td>\n",
       "      <td>The Reaction of α-Diazo-β-hydroxy Esters with ...</td>\n",
       "      <td>1</td>\n",
       "      <td>118</td>\n",
       "      <td>1872</td>\n",
       "      <td>59</td>\n",
       "      <td>1996-01-10 00:00:00.000000</td>\n",
       "    </tr>\n",
       "    <tr>\n",
       "      <th>2</th>\n",
       "      <td>Article</td>\n",
       "      <td>Absolute Kinetics of Aminium Radical Reactions...</td>\n",
       "      <td>1</td>\n",
       "      <td>118</td>\n",
       "      <td>979</td>\n",
       "      <td>41</td>\n",
       "      <td>1996-01-10 00:00:00.000000</td>\n",
       "    </tr>\n",
       "    <tr>\n",
       "      <th>3</th>\n",
       "      <td>Article</td>\n",
       "      <td>Solvent Dependent Leaving Group Fluorine Kinet...</td>\n",
       "      <td>1</td>\n",
       "      <td>118</td>\n",
       "      <td>481</td>\n",
       "      <td>23</td>\n",
       "      <td>1996-01-10 00:00:00.000000</td>\n",
       "    </tr>\n",
       "    <tr>\n",
       "      <th>4</th>\n",
       "      <td>Article</td>\n",
       "      <td>XAS Structural Comparisons of Reversibly Inter...</td>\n",
       "      <td>1</td>\n",
       "      <td>118</td>\n",
       "      <td>456</td>\n",
       "      <td>61</td>\n",
       "      <td>1996-01-10 00:00:00.000000</td>\n",
       "    </tr>\n",
       "    <tr>\n",
       "      <th>5</th>\n",
       "      <td>Article</td>\n",
       "      <td>Toward an Understanding of the High Enantiosel...</td>\n",
       "      <td>1</td>\n",
       "      <td>118</td>\n",
       "      <td>769</td>\n",
       "      <td>52</td>\n",
       "      <td>1996-01-10 00:00:00.000000</td>\n",
       "    </tr>\n",
       "  </tbody>\n",
       "</table>\n",
       "</div>"
      ],
      "text/plain": [
       "            type                                              title  volume  \\\n",
       "paperID                                                                       \n",
       "1        Article  The Reaction of α-Diazo-β-hydroxy Esters with ...       1   \n",
       "2        Article  Absolute Kinetics of Aminium Radical Reactions...       1   \n",
       "3        Article  Solvent Dependent Leaving Group Fluorine Kinet...       1   \n",
       "4        Article  XAS Structural Comparisons of Reversibly Inter...       1   \n",
       "5        Article  Toward an Understanding of the High Enantiosel...       1   \n",
       "\n",
       "         issue  views  citations             publishedOnline  \n",
       "paperID                                                       \n",
       "1          118   1872         59  1996-01-10 00:00:00.000000  \n",
       "2          118    979         41  1996-01-10 00:00:00.000000  \n",
       "3          118    481         23  1996-01-10 00:00:00.000000  \n",
       "4          118    456         61  1996-01-10 00:00:00.000000  \n",
       "5          118    769         52  1996-01-10 00:00:00.000000  "
      ]
     },
     "execution_count": 8,
     "metadata": {},
     "output_type": "execute_result"
    }
   ],
   "source": [
    "# 필요한 정보만을 추출하여 papers DataFrame을 재생성\n",
    "papers = papers[['type','title','volume','issue','views','citations','publishedOnline']]\n",
    "papers.head()"
   ]
  },
  {
   "cell_type": "code",
   "execution_count": 9,
   "id": "24b64a81",
   "metadata": {
    "colab": {
     "base_uri": "https://localhost:8080/"
    },
    "id": "24b64a81",
    "outputId": "2b3dd9e8-d14c-4634-e16b-76641551374b"
   },
   "outputs": [
    {
     "name": "stdout",
     "output_type": "stream",
     "text": [
      "<class 'pandas.core.frame.DataFrame'>\n",
      "Int64Index: 59467 entries, 1 to 59467\n",
      "Data columns (total 7 columns):\n",
      " #   Column           Non-Null Count  Dtype \n",
      "---  ------           --------------  ----- \n",
      " 0   type             59467 non-null  object\n",
      " 1   title            59467 non-null  object\n",
      " 2   volume           59467 non-null  int64 \n",
      " 3   issue            59467 non-null  int64 \n",
      " 4   views            59467 non-null  int64 \n",
      " 5   citations        59467 non-null  int64 \n",
      " 6   publishedOnline  59467 non-null  object\n",
      "dtypes: int64(4), object(3)\n",
      "memory usage: 3.6+ MB\n"
     ]
    }
   ],
   "source": [
    "papers.info()"
   ]
  },
  {
   "cell_type": "code",
   "execution_count": 10,
   "id": "b4866c8f",
   "metadata": {
    "id": "b4866c8f"
   },
   "outputs": [],
   "source": [
    "papers.to_csv('papers.csv',sep='\\t')"
   ]
  },
  {
   "cell_type": "code",
   "execution_count": 11,
   "id": "d621e542",
   "metadata": {
    "colab": {
     "base_uri": "https://localhost:8080/"
    },
    "id": "d621e542",
    "outputId": "4cc22a4f-79d3-41e4-ff9f-8580b9f44085"
   },
   "outputs": [
    {
     "data": {
      "text/plain": [
       "1     1292\n",
       "2     1115\n",
       "3      973\n",
       "4     1190\n",
       "5     1200\n",
       "6     1249\n",
       "7     1163\n",
       "8     1156\n",
       "9     1227\n",
       "10    1229\n",
       "Name: volume, dtype: int64"
      ]
     },
     "execution_count": 11,
     "metadata": {},
     "output_type": "execute_result"
    }
   ],
   "source": [
    "# volumne별 개재된 논문 수의 확인\n",
    "a = papers['volume'].value_counts().sort_index()\n",
    "a[:10]"
   ]
  },
  {
   "cell_type": "code",
   "execution_count": 12,
   "id": "4ea2d67e",
   "metadata": {
    "colab": {
     "base_uri": "https://localhost:8080/",
     "height": 295
    },
    "id": "4ea2d67e",
    "outputId": "d377d3fb-fc49-4370-93fb-085c40efab47"
   },
   "outputs": [
    {
     "data": {
      "text/plain": [
       "(500.0, 1500.0)"
      ]
     },
     "execution_count": 12,
     "metadata": {},
     "output_type": "execute_result"
    },
    {
     "data": {
      "image/png": "[encoded data removed]",
      "text/plain": [
       "<Figure size 432x288 with 1 Axes>"
      ]
     },
     "metadata": {
      "needs_background": "light"
     },
     "output_type": "display_data"
    }
   ],
   "source": [
    "import matplotlib.pyplot as plt\n",
    "%matplotlib inline\n",
    "a.plot(kind = 'bar', label = '_nolegend_')\n",
    "plt.plot([1,51],[a.mean(),a.mean()],color = 'C1',label = 'average %d' % a.mean())\n",
    "plt.plot([1,51],[a.median(),a.median()],color = 'C2',label = 'median %d' % a.median())\n",
    "plt.title('Number of papers per volume'); plt.legend(); plt.xticks(range(0,51,10)); plt.ylim(500,1500)"
   ]
  },
  {
   "cell_type": "markdown",
   "id": "f8157628",
   "metadata": {
    "id": "f8157628"
   },
   "source": [
    "Volume별 논문 수는 큰 차이가 없음"
   ]
  },
  {
   "cell_type": "markdown",
   "id": "cbeebc02",
   "metadata": {
    "id": "cbeebc02"
   },
   "source": [
    "### Paper의 출간 년도 추출\n",
    "- papers의 publishedOnline은 출간 년도가 문자열 형식으로 저장되어 있음.\n",
    "- RegEx를 이용해 출간 년도를 추출"
   ]
  },
  {
   "cell_type": "code",
   "execution_count": 13,
   "id": "228e8011",
   "metadata": {
    "colab": {
     "base_uri": "https://localhost:8080/",
     "height": 35
    },
    "id": "228e8011",
    "outputId": "b5a73fd6-f03e-48a5-bc24-fcb4f28c1456"
   },
   "outputs": [
    {
     "data": {
      "text/plain": [
       "'1996-03-13 00:00:00.000000'"
      ]
     },
     "execution_count": 13,
     "metadata": {},
     "output_type": "execute_result"
    }
   ],
   "source": [
    "sample = papers['publishedOnline'][420]\n",
    "sample"
   ]
  },
  {
   "cell_type": "code",
   "execution_count": 14,
   "id": "18885acd",
   "metadata": {
    "colab": {
     "base_uri": "https://localhost:8080/"
    },
    "id": "18885acd",
    "outputId": "10163f27-85c5-4c2c-a879-8ec93458437b"
   },
   "outputs": [
    {
     "data": {
      "text/plain": [
       "1996"
      ]
     },
     "execution_count": 14,
     "metadata": {},
     "output_type": "execute_result"
    }
   ],
   "source": [
    "import re\n",
    "pat = re.compile('\\d{4}(?=[-])')\n",
    "int(pat.match(sample).group())"
   ]
  },
  {
   "cell_type": "markdown",
   "id": "192874ae",
   "metadata": {
    "id": "192874ae"
   },
   "source": [
    "### Author, Paper Class의 생성"
   ]
  },
  {
   "cell_type": "markdown",
   "id": "13527399",
   "metadata": {
    "id": "13527399"
   },
   "source": [
    "Author와 Paper class는 별도의 file에 생성"
   ]
  },
  {
   "cell_type": "code",
   "execution_count": 15,
   "id": "ee0a7451",
   "metadata": {
    "colab": {
     "base_uri": "https://localhost:8080/"
    },
    "id": "ee0a7451",
    "outputId": "5d451b10-491a-4133-f9f0-90efcefe959e"
   },
   "outputs": [
    {
     "name": "stdout",
     "output_type": "stream",
     "text": [
      "Overwriting Author.py\n"
     ]
    }
   ],
   "source": [
    "%%writefile Author.py\n",
    "class Author:\n",
    "    def __init__(self,authorID,forename,initials,surname):\n",
    "        self._authorID = authorID\n",
    "        self._forename = forename\n",
    "        self._initials = initials\n",
    "        self._surname = surname\n",
    "        self._fullname = Author.getFullName(forename,initials,surname)\n",
    "        self._papers = []\n",
    "        \n",
    "    @staticmethod\n",
    "    def getFullName(forename,initials,surname):\n",
    "        return ' '.join([forename,initials,surname])\n",
    "    \n",
    "    def printInfo(self):\n",
    "        fmt = 'authorID : {}\\nforename: {}\\ninitials: {}\\nsurname: {}\\nfullname: {}'\n",
    "        print(fmt.format(self._authorID,self._forename,self._initials,self._surname,self._fullname))\n",
    "\n",
    "    def printPapers(self):\n",
    "        for i in self._papers:\n",
    "            print(i.title)\n",
    "        \n",
    "    def __str__(self):\n",
    "        return self._fullname\n",
    "    \n",
    "    @property\n",
    "    def authorID(self):\n",
    "        return self._authorID\n",
    "    \n",
    "    @property\n",
    "    def forename(self):\n",
    "        return self._forename\n",
    "    \n",
    "    @property\n",
    "    def initials(self):\n",
    "        return self._initals\n",
    "    \n",
    "    @property\n",
    "    def surname(self):\n",
    "        return self._surname\n",
    "    \n",
    "    @property\n",
    "    def fullname(self):\n",
    "        return self._fullname\n",
    "    \n",
    "    @property\n",
    "    def papers(self):\n",
    "        return self._papers\n",
    "    \n",
    "    @authorID.setter\n",
    "    def authorID(self,para):\n",
    "        self._authorID = para\n",
    "        \n",
    "    @forename.setter\n",
    "    def forename(self,para):\n",
    "        self._forename = para\n",
    "        \n",
    "    @initials.setter\n",
    "    def initials(self,para):\n",
    "        self._initals = para\n",
    "        \n",
    "    @surname.setter\n",
    "    def surname(self,para):\n",
    "        self._surname = para\n",
    "        \n",
    "    @fullname.setter\n",
    "    def fullname(self,para):\n",
    "        self._fullname = para\n",
    "        \n",
    "    @papers.setter\n",
    "    def papers(self,para):\n",
    "        self._papers = para"
   ]
  },
  {
   "cell_type": "code",
   "execution_count": 16,
   "id": "2435d409",
   "metadata": {
    "colab": {
     "base_uri": "https://localhost:8080/"
    },
    "id": "2435d409",
    "outputId": "ef6a73b4-71d7-45ca-d2e2-c181c9ba2d13"
   },
   "outputs": [
    {
     "name": "stdout",
     "output_type": "stream",
     "text": [
      "Overwriting Paper.py\n"
     ]
    }
   ],
   "source": [
    "%%writefile Paper.py\n",
    "import re\n",
    "pat = re.compile('\\d{4}(?=[-])')\n",
    "class Paper:\n",
    "    def __init__(self,paperID,type,title,volume,issue,views,citations,year):\n",
    "        self._paperID = paperID\n",
    "        self._type = type\n",
    "        self._title = title\n",
    "        self._volume = volume\n",
    "        self._issue = issue\n",
    "        self._views = views\n",
    "        self._citations = citations\n",
    "        self._authors = []\n",
    "        self._year = int(pat.match(year).group())\n",
    "        \n",
    "    def printInfo(self):\n",
    "        fmt = 'paperID: {}\\ntitle: {}\\ntype: {}\\nyear: {}\\nvolume: {}\\nissue: {}\\nviews: {}\\ncitations: {}'\n",
    "        print(fmt.format(self._paperID,self._title,self._type,self._year,self._volume,self._issue,self._views,self._citations))\n",
    "\n",
    "    def printAuthors(self):\n",
    "        for i in self._authors:\n",
    "            print(i.fullname)\n",
    "        \n",
    "    def __str__(self):\n",
    "        return self._title\n",
    "        \n",
    "    @property\n",
    "    def paperID(self):\n",
    "        return self._paperID\n",
    "    \n",
    "    @property\n",
    "    def type(self):\n",
    "        return self._type\n",
    "    \n",
    "    @property\n",
    "    def title(self):\n",
    "        return self._title\n",
    "    \n",
    "    @property\n",
    "    def volume(self):\n",
    "        return self._volume\n",
    "    \n",
    "    @property\n",
    "    def issue(self):\n",
    "        return self._issue\n",
    "    \n",
    "    @property\n",
    "    def views(self):\n",
    "        return self._views\n",
    "    \n",
    "    @property\n",
    "    def citations(self):\n",
    "        return self._citations\n",
    "    \n",
    "    @property\n",
    "    def authors(self):\n",
    "        return self._authors\n",
    "    \n",
    "    @property\n",
    "    def year(self):\n",
    "        return self._year\n",
    "    \n",
    "    @paperID.setter\n",
    "    def paperID(self,para):\n",
    "        self._paperID = para\n",
    "        \n",
    "    @type.setter\n",
    "    def type(self,para):\n",
    "        self._type = para\n",
    "        \n",
    "    @title.setter\n",
    "    def title(self,para):\n",
    "        self._title = para\n",
    "        \n",
    "    @volume.setter\n",
    "    def volume(self,para):\n",
    "        self._volume = para\n",
    "        \n",
    "    @issue.setter\n",
    "    def issue(self,para):\n",
    "        self._issue = para\n",
    "        \n",
    "    @views.setter\n",
    "    def views(self,para):\n",
    "        self._views = para\n",
    "        \n",
    "    @citations.setter\n",
    "    def citations(self,para):\n",
    "        self._citations = para\n",
    "        \n",
    "    @authors.setter\n",
    "    def authors(self,para):\n",
    "        self._authors = para\n",
    "        \n",
    "    @year.setter\n",
    "    def year(self,para):\n",
    "        self._year = para"
   ]
  },
  {
   "cell_type": "markdown",
   "id": "33dce97d",
   "metadata": {
    "id": "33dce97d"
   },
   "source": [
    "import를 통해 두개의 class 불러오기"
   ]
  },
  {
   "cell_type": "code",
   "execution_count": 17,
   "id": "33d00d34",
   "metadata": {
    "id": "33d00d34"
   },
   "outputs": [],
   "source": [
    "from Author import Author\n",
    "from Paper import Paper"
   ]
  },
  {
   "cell_type": "markdown",
   "id": "de645e9b",
   "metadata": {
    "id": "de645e9b"
   },
   "source": [
    "Author object를 생성하여 authorList로 저장"
   ]
  },
  {
   "cell_type": "code",
   "execution_count": 18,
   "id": "06bbd37c",
   "metadata": {
    "id": "06bbd37c"
   },
   "outputs": [],
   "source": [
    "authorList = []\n",
    "for i in range(authors.shape[0]):\n",
    "    authorList.append(Author(i+1,authors.iloc[i,0],authors.iloc[i,1],authors.iloc[i,2]))"
   ]
  },
  {
   "cell_type": "code",
   "execution_count": 19,
   "id": "fb790dfa",
   "metadata": {
    "id": "fb790dfa"
   },
   "outputs": [],
   "source": [
    "paperList = []\n",
    "for i in range(papers.shape[0]):\n",
    "    paperList.append(Paper(i+1,papers.iloc[i,0],papers.iloc[i,1],papers.iloc[i,2],papers.iloc[i,3],papers.iloc[i,4],papers.iloc[i,5],papers.iloc[i,6]))"
   ]
  },
  {
   "cell_type": "code",
   "execution_count": 20,
   "id": "f4954393",
   "metadata": {
    "colab": {
     "base_uri": "https://localhost:8080/"
    },
    "id": "f4954393",
    "outputId": "af6a464a-8500-46a8-8c77-c92e51c0ca6d"
   },
   "outputs": [
    {
     "name": "stdout",
     "output_type": "stream",
     "text": [
      "Paul G. Wenthold\n"
     ]
    }
   ],
   "source": [
    "# __str__(self) 적용시 author의 fullname을 return\n",
    "print(authorList[333])"
   ]
  },
  {
   "cell_type": "code",
   "execution_count": 21,
   "id": "c89e7f84",
   "metadata": {
    "colab": {
     "base_uri": "https://localhost:8080/"
    },
    "id": "c89e7f84",
    "outputId": "115e39a2-835b-4037-abe3-8e08ca01e56f"
   },
   "outputs": [
    {
     "name": "stdout",
     "output_type": "stream",
     "text": [
      "authorID : 334\n",
      "forename: Paul\n",
      "initials: G.\n",
      "surname: Wenthold\n",
      "fullname: Paul G. Wenthold\n"
     ]
    }
   ],
   "source": [
    "# author 정보를 print하는 함수 printInfo()\n",
    "authorList[333].printInfo()"
   ]
  },
  {
   "cell_type": "code",
   "execution_count": 22,
   "id": "6c65d6fb",
   "metadata": {
    "colab": {
     "base_uri": "https://localhost:8080/"
    },
    "id": "6c65d6fb",
    "outputId": "8d15cf8f-afd0-4cfb-aec2-7ca01dbcf1cf"
   },
   "outputs": [
    {
     "name": "stdout",
     "output_type": "stream",
     "text": [
      "paperID: 334\n",
      "title: Polyrotaxane Containing a Blocking Group in Every Structural Unit of the Polymer Chain. Direct Synthesis of Poly(alkylenebenzimidazole) Rotaxane from Ru Complex-Catalyzed Reaction of 1,12-Dodecanediol and 3,3‘-Diaminobenzidine in the Presence of Cyclodextrin\n",
      "type: Communication\n",
      "year: 1996\n",
      "volume: 7\n",
      "issue: 118\n",
      "views: 401\n",
      "citations: 62\n"
     ]
    }
   ],
   "source": [
    "paperList[333].printInfo()"
   ]
  },
  {
   "cell_type": "markdown",
   "id": "6353b78e",
   "metadata": {
    "id": "6353b78e"
   },
   "source": [
    "### Author와 Paper를 Matching하는 함수 getPaper, getAuthor"
   ]
  },
  {
   "cell_type": "markdown",
   "id": "3831e5f4",
   "metadata": {
    "id": "3831e5f4"
   },
   "source": [
    "Author table과 Paper table을 연결하는 Paper_Author table 불러오기"
   ]
  },
  {
   "cell_type": "code",
   "execution_count": 23,
   "id": "f014f3c4",
   "metadata": {
    "colab": {
     "base_uri": "https://localhost:8080/",
     "height": 206
    },
    "id": "f014f3c4",
    "outputId": "f7084747-8630-4413-c7d6-ad98c3bb2687"
   },
   "outputs": [
    {
     "data": {
      "text/html": [
       "<div>\n",
       "<style scoped>\n",
       "    .dataframe tbody tr th:only-of-type {\n",
       "        vertical-align: middle;\n",
       "    }\n",
       "\n",
       "    .dataframe tbody tr th {\n",
       "        vertical-align: top;\n",
       "    }\n",
       "\n",
       "    .dataframe thead th {\n",
       "        text-align: right;\n",
       "    }\n",
       "</style>\n",
       "<table border=\"1\" class=\"dataframe\">\n",
       "  <thead>\n",
       "    <tr style=\"text-align: right;\">\n",
       "      <th></th>\n",
       "      <th>paperID</th>\n",
       "      <th>authorID</th>\n",
       "    </tr>\n",
       "  </thead>\n",
       "  <tbody>\n",
       "    <tr>\n",
       "      <th>0</th>\n",
       "      <td>1</td>\n",
       "      <td>1</td>\n",
       "    </tr>\n",
       "    <tr>\n",
       "      <th>1</th>\n",
       "      <td>1</td>\n",
       "      <td>2</td>\n",
       "    </tr>\n",
       "    <tr>\n",
       "      <th>2</th>\n",
       "      <td>1</td>\n",
       "      <td>3</td>\n",
       "    </tr>\n",
       "    <tr>\n",
       "      <th>3</th>\n",
       "      <td>1</td>\n",
       "      <td>4</td>\n",
       "    </tr>\n",
       "    <tr>\n",
       "      <th>4</th>\n",
       "      <td>1</td>\n",
       "      <td>5</td>\n",
       "    </tr>\n",
       "  </tbody>\n",
       "</table>\n",
       "</div>"
      ],
      "text/plain": [
       "   paperID  authorID\n",
       "0        1         1\n",
       "1        1         2\n",
       "2        1         3\n",
       "3        1         4\n",
       "4        1         5"
      ]
     },
     "execution_count": 23,
     "metadata": {},
     "output_type": "execute_result"
    }
   ],
   "source": [
    "con = sqlite3.connect('./archive/database.sqlite')\n",
    "cur = con.cursor()\n",
    "authorPaper = pd.read_sql_query(\"SELECT * FROM Paper_Authors\",\n",
    "                                    sqlite3.connect('./archive/database.sqlite'))\n",
    "authorPaper.head()"
   ]
  },
  {
   "cell_type": "code",
   "execution_count": 24,
   "id": "aca63707",
   "metadata": {
    "id": "aca63707"
   },
   "outputs": [],
   "source": [
    "# 함수 실행시간 측정을 위한 decorator checkTime\n",
    "import time\n",
    "class checkTime:\n",
    "    def __init__(self,func):\n",
    "        self.func = func\n",
    "    def __call__(self,*args,**kwargs):\n",
    "        startTime = time.time()\n",
    "        returnval = self.func(*args,**kwargs)\n",
    "        endTime = time.time()\n",
    "        print(f\"Execution time of function {self.func.__name__}: %.3f\" % (endTime-startTime))\n",
    "        return returnval"
   ]
  },
  {
   "cell_type": "code",
   "execution_count": 25,
   "id": "b853041e",
   "metadata": {
    "id": "b853041e"
   },
   "outputs": [],
   "source": [
    "# Author object의 _papers에 정보를 처리하는 함수 getPapers\n",
    "def getPapers(Author):\n",
    "    for i in authorPaper[authorPaper.authorID == Author.authorID].paperID:\n",
    "        Author.papers.append(paperList[i-1])"
   ]
  },
  {
   "cell_type": "code",
   "execution_count": 26,
   "id": "d7bfa520",
   "metadata": {
    "id": "d7bfa520"
   },
   "outputs": [],
   "source": [
    "# Paper object의 _authors에 정보를 추가하는 함수 getAuthors\n",
    "def getAuthors(Paper):\n",
    "    for i in authorPaper[authorPaper.paperID == Paper.paperID].authorID:\n",
    "        Paper.authors.append(authorList[i-1])"
   ]
  },
  {
   "cell_type": "code",
   "execution_count": 27,
   "id": "327b4f01",
   "metadata": {
    "colab": {
     "base_uri": "https://localhost:8080/"
    },
    "id": "327b4f01",
    "outputId": "48928863-dc94-4a82-8116-1e79ffc86ef4"
   },
   "outputs": [
    {
     "name": "stdout",
     "output_type": "stream",
     "text": [
      "Execution time of function process: 226.154\n"
     ]
    }
   ],
   "source": [
    "@checkTime\n",
    "def process():\n",
    "    for author in authorList:\n",
    "        getPapers(author)\n",
    "    for paper in paperList:\n",
    "        getAuthors(paper)\n",
    "\n",
    "process()"
   ]
  },
  {
   "cell_type": "markdown",
   "id": "49207762",
   "metadata": {
    "id": "49207762"
   },
   "source": [
    "함수 실행시간이 길기 때문에, list를 binary file로 저장 후 재사용"
   ]
  },
  {
   "cell_type": "code",
   "execution_count": 28,
   "id": "f9a63612",
   "metadata": {
    "colab": {
     "base_uri": "https://localhost:8080/"
    },
    "id": "f9a63612",
    "outputId": "664a0f0d-9f88-4413-cdfa-dbd345a4a381"
   },
   "outputs": [
    {
     "name": "stdout",
     "output_type": "stream",
     "text": [
      "An RecursionError Occured : Your files aren't saved. Proceed with care.\n"
     ]
    }
   ],
   "source": [
    "import pickle\n",
    "try:\n",
    "    pickle.dump(authorList,open('./authorList.dat','wb'))\n",
    "    pickle.dump(paperList,open('./paperList.dat','wb'))\n",
    "except RecursionError:\n",
    "    print(\"An RecursionError Occured : Your files aren't saved. Proceed with care.\")\n",
    "    # 컴퓨터 환경에 따라 대용량의 file 저장 불가능할 수 있음"
   ]
  },
  {
   "cell_type": "code",
   "execution_count": 29,
   "id": "0adf87dc",
   "metadata": {
    "colab": {
     "base_uri": "https://localhost:8080/"
    },
    "id": "0adf87dc",
    "outputId": "97407368-3190-4aad-b98c-2e10afaf189f"
   },
   "outputs": [
    {
     "data": {
      "text/plain": [
       "[<Paper.Paper at 0x1fae702f4f0>,\n",
       " <Paper.Paper at 0x1fae7094df0>,\n",
       " <Paper.Paper at 0x1fae7107ee0>,\n",
       " <Paper.Paper at 0x1fae714d5a0>,\n",
       " <Paper.Paper at 0x1fae71bec50>,\n",
       " <Paper.Paper at 0x1fae71bee30>,\n",
       " <Paper.Paper at 0x1fae729c7c0>,\n",
       " <Paper.Paper at 0x1fae74ce0e0>,\n",
       " <Paper.Paper at 0x1fae74f5030>,\n",
       " <Paper.Paper at 0x1fae74f6140>,\n",
       " <Paper.Paper at 0x1fae761d690>,\n",
       " <Paper.Paper at 0x1fae7725570>,\n",
       " <Paper.Paper at 0x1fae782b310>,\n",
       " <Paper.Paper at 0x1fae7aef2b0>,\n",
       " <Paper.Paper at 0x1fae7d1c8b0>,\n",
       " <Paper.Paper at 0x1fae85498a0>]"
      ]
     },
     "execution_count": 29,
     "metadata": {},
     "output_type": "execute_result"
    }
   ],
   "source": [
    "# papers 속성은 paper object를 원소로 가짐\n",
    "authorList[333].papers"
   ]
  },
  {
   "cell_type": "code",
   "execution_count": 30,
   "id": "9ef9a947",
   "metadata": {
    "colab": {
     "base_uri": "https://localhost:8080/"
    },
    "id": "9ef9a947",
    "outputId": "86b8ce53-fbc8-4357-84a3-d6a4c916ffc1"
   },
   "outputs": [
    {
     "name": "stdout",
     "output_type": "stream",
     "text": [
      "Photoelectron Spectroscopy of the Trimethylene- methane Negative Ion. The Singlet−Triplet Splitting of Trimethylenemethane\n",
      "Ultraviolet Photoelectron Spectroscopy of Some C7H7- Isomers:  Quadricyclanide, Norbornadienide, Cycloheptatrienide, and 1,6-Heptadiynide\n",
      "o-, m-, and p-Benzyne Negative Ions in the Gas Phase:  Synthesis, Authentication, and Thermochemistry\n",
      "Photoelectron Spectroscopy of m-Xylylene Anion\n",
      "Dehydrocyclooctatetraene. Photoelectron Spectroscopy of the C8H6 Anion\n",
      "Experimental and Computational Studies of the Structures and Energetics of Cyclooctatetraene and Its Derivatives\n",
      "Ultraviolet Photoelectron Spectroscopy of the o-, m-, and p-Benzyne Negative Ions. Electron Affinities and Singlet−Triplet Splittings for o-, m-, and p-Benzyne\n",
      "A Density Functional Molecular Orbital Study of the C2−C7 and C2−C6 Cyclization Pathways of 1,2,4-Heptatrien-6-ynes. The Role of Benzannulation\n",
      "Bond Dissociation Energy in Trifluoride Ion\n",
      "Synthesis, Characterization, and Reactivity of the m-Xylylene Anion in the Gas Phase. The Enthalpy of Formation of m-Xylylene\n",
      "Triradical Thermochemistry from Collision-Induced Dissociation Threshold Energy Measurements. The Heat of Formation of 1,3,5-Trimethylenebenzene\n",
      "Is the 1,3,5-Tridehydrobenzene Triradical a Cyclopropenyl Radical Analogue?\n",
      "An Electron-Catalyzed Cope Cyclization. The Structure of the 2,5-Dicyano-1,5-hexadiene Radical Anion in the Gas Phase\n",
      "The Binding Energy and Bonding in Dialane\n",
      "Bonding and Electronic Structure of XeF3-\n",
      "Anionic Substituent Control of the Electronic Structure of Aromatic Nitrenes\n"
     ]
    }
   ],
   "source": [
    "authorList[333].printPapers()"
   ]
  },
  {
   "cell_type": "code",
   "execution_count": 31,
   "id": "2bcfad31",
   "metadata": {
    "colab": {
     "base_uri": "https://localhost:8080/"
    },
    "id": "2bcfad31",
    "outputId": "426a57ce-a52f-43f3-dafd-268a9db5d56f"
   },
   "outputs": [
    {
     "data": {
      "text/plain": [
       "[<Author.Author at 0x1fae1868130>,\n",
       " <Author.Author at 0x1fae1868160>,\n",
       " <Author.Author at 0x1fae1868190>]"
      ]
     },
     "execution_count": 31,
     "metadata": {},
     "output_type": "execute_result"
    }
   ],
   "source": [
    "# authors 속성은 author object를 원소로 가짐\n",
    "paperList[333].authors"
   ]
  },
  {
   "cell_type": "code",
   "execution_count": 32,
   "id": "aeb0170e",
   "metadata": {
    "colab": {
     "base_uri": "https://localhost:8080/"
    },
    "id": "aeb0170e",
    "outputId": "fb100812-b8a9-46f8-8344-7a08727dac1e"
   },
   "outputs": [
    {
     "name": "stdout",
     "output_type": "stream",
     "text": [
      "Isao  Yamaguchi\n",
      "Kohtaro  Osakada\n",
      "Takakazu  Yamamoto\n"
     ]
    }
   ],
   "source": [
    "paperList[333].printAuthors()"
   ]
  },
  {
   "cell_type": "markdown",
   "id": "ff3c3b44",
   "metadata": {
    "id": "ff3c3b44"
   },
   "source": [
    "## Data의 분석\n",
    "### 논문의 type에 따라 참여한 작성자 수에 따른 차이가 있을까?"
   ]
  },
  {
   "cell_type": "code",
   "execution_count": 33,
   "id": "8673ae23",
   "metadata": {
    "colab": {
     "base_uri": "https://localhost:8080/"
    },
    "id": "8673ae23",
    "outputId": "39b19d51-208d-48aa-cb19-14c5e5f684eb"
   },
   "outputs": [
    {
     "data": {
      "text/plain": [
       "Article                     30253\n",
       "Communication               26919\n",
       "Book Review                  1324\n",
       "Addition/Correction           535\n",
       "Spotlights                    254\n",
       "Perspective                    93\n",
       "Computer Software Review       49\n",
       "Editorial                      39\n",
       "Retraction                      1\n",
       "Name: type, dtype: int64"
      ]
     },
     "execution_count": 33,
     "metadata": {},
     "output_type": "execute_result"
    }
   ],
   "source": [
    "# 논문의 종류에 따른 수 확인\n",
    "papers['type'].value_counts()"
   ]
  },
  {
   "cell_type": "code",
   "execution_count": 34,
   "id": "432f2a02",
   "metadata": {
    "colab": {
     "base_uri": "https://localhost:8080/",
     "height": 407
    },
    "id": "432f2a02",
    "outputId": "bb4a4e84-aafb-470f-c1c7-34bcb2f454fd",
    "scrolled": false
   },
   "outputs": [
    {
     "data": {
      "text/plain": [
       "<AxesSubplot:>"
      ]
     },
     "execution_count": 34,
     "metadata": {},
     "output_type": "execute_result"
    },
    {
     "data": {
      "image/png": "[encoded data removed]",
      "text/plain": [
       "<Figure size 432x288 with 1 Axes>"
      ]
     },
     "metadata": {
      "needs_background": "light"
     },
     "output_type": "display_data"
    }
   ],
   "source": [
    "papers['type'].value_counts().plot(kind = 'bar')"
   ]
  },
  {
   "cell_type": "markdown",
   "id": "42a37c42",
   "metadata": {
    "id": "42a37c42"
   },
   "source": [
    "Article 및 Communication으로 분류된 논문이 압도적으로 많음\n",
    "<br>> Article과 Communication을 제외한 종류를 Other로 처리"
   ]
  },
  {
   "cell_type": "code",
   "execution_count": 35,
   "id": "ef0517c1",
   "metadata": {
    "id": "ef0517c1"
   },
   "outputs": [],
   "source": [
    "papers['type'] = [i if i in ['Article','Communication'] else 'Others'\n",
    "                    for i in papers['type']]"
   ]
  },
  {
   "cell_type": "code",
   "execution_count": 36,
   "id": "e3d11031",
   "metadata": {
    "colab": {
     "base_uri": "https://localhost:8080/",
     "height": 351
    },
    "id": "e3d11031",
    "outputId": "6b4fbec6-6fc1-4216-c9a7-938061e7adbe"
   },
   "outputs": [
    {
     "data": {
      "text/plain": [
       "<AxesSubplot:>"
      ]
     },
     "execution_count": 36,
     "metadata": {},
     "output_type": "execute_result"
    },
    {
     "data": {
      "image/png": "[encoded data removed]",
      "text/plain": [
       "<Figure size 432x288 with 1 Axes>"
      ]
     },
     "metadata": {
      "needs_background": "light"
     },
     "output_type": "display_data"
    }
   ],
   "source": [
    "papers['type'].value_counts().plot(kind = 'bar')"
   ]
  },
  {
   "cell_type": "markdown",
   "id": "cc443627",
   "metadata": {
    "id": "cc443627"
   },
   "source": [
    "한 논문을 작성하는데 참여한 연구자의 수의 분포 확인"
   ]
  },
  {
   "cell_type": "code",
   "execution_count": 37,
   "id": "331519b5",
   "metadata": {
    "colab": {
     "base_uri": "https://localhost:8080/",
     "height": 285
    },
    "id": "331519b5",
    "outputId": "e8ba5f45-4211-4a43-bc55-2425128046f6"
   },
   "outputs": [
    {
     "data": {
      "text/plain": [
       "<AxesSubplot:>"
      ]
     },
     "execution_count": 37,
     "metadata": {},
     "output_type": "execute_result"
    },
    {
     "data": {
      "image/png": "[encoded data removed]",
      "text/plain": [
       "<Figure size 432x288 with 1 Axes>"
      ]
     },
     "metadata": {
      "needs_background": "light"
     },
     "output_type": "display_data"
    }
   ],
   "source": [
    "from collections import Counter\n",
    "pd.Series(Counter(len(paper.authors) for paper in paperList)).sort_index().plot(kind = 'bar')"
   ]
  },
  {
   "cell_type": "markdown",
   "id": "0c20520d",
   "metadata": {
    "id": "0c20520d"
   },
   "source": [
    "논문의 type별로 계산"
   ]
  },
  {
   "cell_type": "code",
   "execution_count": 38,
   "id": "3c50aae6",
   "metadata": {
    "colab": {
     "base_uri": "https://localhost:8080/"
    },
    "id": "3c50aae6",
    "outputId": "bae80f26-867d-4ed1-bb01-71d67cfb7489"
   },
   "outputs": [
    {
     "data": {
      "text/plain": [
       "Article  0        5\n",
       "         1      224\n",
       "         2     4039\n",
       "         3     5282\n",
       "         4     5341\n",
       "               ... \n",
       "Others   13       3\n",
       "         14       1\n",
       "         15       2\n",
       "         16       4\n",
       "         18       1\n",
       "Length: 73, dtype: int64"
      ]
     },
     "execution_count": 38,
     "metadata": {},
     "output_type": "execute_result"
    }
   ],
   "source": [
    "counts = pd.Series(Counter((paper.type if paper.type in ['Article','Communication'] else 'Others', len(paper.authors))\n",
    "        for paper in paperList), index = None)\n",
    "counts = counts.sort_index()\n",
    "counts"
   ]
  },
  {
   "cell_type": "code",
   "execution_count": 39,
   "id": "22ca3720",
   "metadata": {
    "colab": {
     "base_uri": "https://localhost:8080/",
     "height": 297
    },
    "id": "22ca3720",
    "outputId": "ecd2aba1-b791-4a1b-ac49-00a36ee52840"
   },
   "outputs": [
    {
     "data": {
      "image/png": "[encoded data removed]",
      "text/plain": [
       "<Figure size 432x288 with 3 Axes>"
      ]
     },
     "metadata": {
      "needs_background": "light"
     },
     "output_type": "display_data"
    }
   ],
   "source": [
    "ax1 = plt.subplot(3,1,1)\n",
    "counts['Article'].plot(kind = 'bar', color = 'C0',label = 'Article')\n",
    "plt.xlim([0,18]);plt.xticks([]);plt.legend();plt.title(\"Distribiution of # of Authors\")\n",
    "ax2 = plt.subplot(3,1,2)\n",
    "counts['Communication'].plot(kind = 'bar', color = 'C1', label = 'Communication')\n",
    "plt.xlim([0,18]);plt.xticks([]);plt.legend()\n",
    "ax3 = plt.subplot(3,1,3)\n",
    "counts['Others'].plot(kind = 'bar', color = 'C2', label = 'Others')\n",
    "plt.xlim([0,18]); plt.legend()\n",
    "plt.tight_layout()"
   ]
  },
  {
   "cell_type": "code",
   "execution_count": 40,
   "id": "413222c0",
   "metadata": {
    "colab": {
     "base_uri": "https://localhost:8080/",
     "height": 301
    },
    "id": "413222c0",
    "outputId": "285908ca-801d-4138-f3a8-dd39ff31ec1b"
   },
   "outputs": [
    {
     "data": {
      "text/plain": [
       "<matplotlib.legend.Legend at 0x1fae917cfd0>"
      ]
     },
     "execution_count": 40,
     "metadata": {},
     "output_type": "execute_result"
    },
    {
     "data": {
      "image/png": "[encoded data removed]",
      "text/plain": [
       "<Figure size 432x288 with 1 Axes>"
      ]
     },
     "metadata": {
      "needs_background": "light"
     },
     "output_type": "display_data"
    }
   ],
   "source": [
    "plt.title(\"Distribiution of # of Authors\")\n",
    "counts['Article'].plot(kind = 'bar', color = 'C0',alpha = 0.5,label = 'Article')\n",
    "counts['Communication'].plot(kind = 'bar', color = 'C1', alpha = 0.5, label = 'Communication')\n",
    "counts['Others'].plot(kind = 'bar', color = 'C2', alpha = 0.4, label = 'Others')\n",
    "plt.legend()"
   ]
  },
  {
   "cell_type": "markdown",
   "id": "698b9bb5",
   "metadata": {
    "id": "698b9bb5"
   },
   "source": [
    "Article이 일반적으로 Communication보다 더 많은 연구자가 참여함을 확인할 수 있음"
   ]
  },
  {
   "cell_type": "markdown",
   "id": "e733611e",
   "metadata": {
    "id": "e733611e"
   },
   "source": [
    "### 저명한 화학자는 어떤 주제에 관심을 가질까?"
   ]
  },
  {
   "cell_type": "markdown",
   "id": "bd4a00e0",
   "metadata": {
    "id": "bd4a00e0"
   },
   "source": [
    "- '저명한 화학자'에 대한 정의\n",
    "    - 논문의 citation 수에 대한 표준화 필요\n",
    "    - (Author의 총 citation) / (Author가 출간한 논문 수) : 평균 citation으로 새롭게 정의"
   ]
  },
  {
   "cell_type": "code",
   "execution_count": 41,
   "id": "8076b773",
   "metadata": {
    "colab": {
     "base_uri": "https://localhost:8080/"
    },
    "id": "8076b773",
    "outputId": "cee2b55a-a1c2-47eb-d7c4-d3977b2041c4"
   },
   "outputs": [
    {
     "data": {
      "text/plain": [
       "authorID\n",
       "6275     5442\n",
       "14806    4190\n",
       "3749     3085\n",
       "54507    2629\n",
       "32043    2201\n",
       "41192    1970\n",
       "41195    1970\n",
       "53316    1967\n",
       "53318    1967\n",
       "18179    1954\n",
       "dtype: int64"
      ]
     },
     "execution_count": 41,
     "metadata": {},
     "output_type": "execute_result"
    }
   ],
   "source": [
    "renowned = pd.Series([int(sum(paper.citations for paper in author.papers)/len(author.papers)) for author in authorList],\n",
    "                    index = authors.index)\n",
    "renowned = renowned.sort_values(ascending = False)\n",
    "renowned[:10]"
   ]
  },
  {
   "cell_type": "code",
   "execution_count": 42,
   "id": "99617799",
   "metadata": {
    "id": "99617799"
   },
   "outputs": [],
   "source": [
    "# 논문 1편당 citation수가 가장 높은 화학자 50인의 list\n",
    "renownedAuthor = [authorList[i-1] for i in renowned[:50].index]"
   ]
  },
  {
   "cell_type": "code",
   "execution_count": 43,
   "id": "d657f400",
   "metadata": {
    "colab": {
     "base_uri": "https://localhost:8080/"
    },
    "id": "d657f400",
    "outputId": "aa05a260-171b-4e02-c0ef-78a155abda89"
   },
   "outputs": [
    {
     "name": "stdout",
     "output_type": "stream",
     "text": [
      "David S. Maxwell 6275 1\n",
      "Jianglin  Feng 14806 1\n",
      "Christoph  Maerker 3749 1\n",
      "Ivan H. El-Sayed 54507 1\n",
      "Scott K. Spear 32043 1\n",
      "Simone  Raoux 41192 1\n",
      "Guanxiong  Li 41195 1\n",
      "Guido  Viscardi 53316 1\n",
      "Bessho  Takeru 53318 1\n",
      "László v. Szentpály 18179 1\n"
     ]
    }
   ],
   "source": [
    "for count, author in enumerate(renownedAuthor):\n",
    "    if count == 10: break\n",
    "    print(author,author.authorID,len(author.papers))"
   ]
  },
  {
   "cell_type": "markdown",
   "id": "02d26131",
   "metadata": {
    "id": "02d26131"
   },
   "source": [
    "renownedAuthor의 출력 결과를 살펴보았을 때,\n",
    "author가 논문이 1편밖에 되지 않는데 높은 renowned 수치를 갖는 경우가 대부분임을 확인할 수 있음.<br>\n",
    "이에 결과의 신뢰성이 부족하다 판단하여 최소 논문 10편에 참여한 학자만으로 다시 list를 생성하기로 함.<br>\n",
    "\n",
    "<br>\n",
    "어느정도의 크기를 갖는 표본을 확보하고자, 검색 대상 수를 10000으로 설정하였음."
   ]
  },
  {
   "cell_type": "code",
   "execution_count": 44,
   "id": "ebfbc528",
   "metadata": {
    "colab": {
     "base_uri": "https://localhost:8080/"
    },
    "id": "ebfbc528",
    "outputId": "04d27090-51b4-4fd5-d2cd-e73d5533da0b"
   },
   "outputs": [
    {
     "data": {
      "text/plain": [
       "205"
      ]
     },
     "execution_count": 44,
     "metadata": {},
     "output_type": "execute_result"
    }
   ],
   "source": [
    "renownedAuthor = [authorList[i-1] for i in renowned[:10000].index\n",
    "                                  if len(authorList[i-1].papers) >= 10]\n",
    "len(renownedAuthor)"
   ]
  },
  {
   "cell_type": "code",
   "execution_count": 45,
   "id": "2cab5cb3",
   "metadata": {
    "colab": {
     "base_uri": "https://localhost:8080/"
    },
    "id": "2cab5cb3",
    "outputId": "4db283b8-c54d-4470-d940-42eae5e71d1b"
   },
   "outputs": [
    {
     "name": "stdout",
     "output_type": "stream",
     "text": [
      "AuthorID\tforename\t\t\t# of papers\n",
      "71881   \tYongye  Liang                 \t13\n",
      "6276    \tJulian  Tirado-Rives          \t10\n",
      "22048   \tXiaohua  Huang                \t10\n",
      "14807   \tBradley F. Chmelka            \t12\n",
      "64164   \tHailiang  Wang                \t19\n",
      "10355   \tXiaogang  Peng                \t37\n",
      "27213   \tHongjie  Dai                  \t47\n",
      "5595    \tJaheon  Kim                   \t14\n",
      "21291   \tAkihiko  Kudo                 \t11\n",
      "242     \tO. M. Yaghi                   \t14\n"
     ]
    }
   ],
   "source": [
    "print('AuthorID\\tforename\\t\\t\\t# of papers')\n",
    "for idx,author in enumerate(renownedAuthor):\n",
    "    if idx == 10:break\n",
    "    print(f'{author.authorID:<8}\\t{author.fullname:30}\\t{len(author.papers)}')"
   ]
  },
  {
   "cell_type": "markdown",
   "id": "4b8386f0",
   "metadata": {
    "id": "4b8386f0"
   },
   "source": [
    "renownedAuthor에 포함된 author의 paper의 title을 추출,\n",
    "이때 문법어를 제외시키기 위해 nltk의 stopwords를 사용."
   ]
  },
  {
   "cell_type": "code",
   "execution_count": 46,
   "id": "4e8457d1",
   "metadata": {
    "colab": {
     "base_uri": "https://localhost:8080/"
    },
    "id": "4e8457d1",
    "outputId": "e92652ff-bce3-4fda-9301-d7a998017eb8"
   },
   "outputs": [
    {
     "name": "stderr",
     "output_type": "stream",
     "text": [
      "[nltk_data] Downloading package stopwords to\n",
      "[nltk_data]     C:\\Users\\rkdqj\\AppData\\Roaming\\nltk_data...\n",
      "[nltk_data]   Package stopwords is already up-to-date!\n"
     ]
    },
    {
     "data": {
      "text/plain": [
       "['i', 'me', 'my', 'myself', 'we', 'our', 'ours', 'ourselves', 'you', \"you're\"]"
      ]
     },
     "execution_count": 46,
     "metadata": {},
     "output_type": "execute_result"
    }
   ],
   "source": [
    "import nltk\n",
    "nltk.download('stopwords')\n",
    "stopwords = nltk.corpus.stopwords.words('english')\n",
    "stopwords[:10]"
   ]
  },
  {
   "cell_type": "code",
   "execution_count": 47,
   "id": "fc87e9b9",
   "metadata": {
    "colab": {
     "base_uri": "https://localhost:8080/"
    },
    "id": "fc87e9b9",
    "outputId": "f93dc7c0-6f47-407d-f544-b7329b6f7da2"
   },
   "outputs": [
    {
     "data": {
      "text/plain": [
       "['development', 'new', 'semiconducting', 'polymers', 'high']"
      ]
     },
     "execution_count": 47,
     "metadata": {},
     "output_type": "execute_result"
    }
   ],
   "source": [
    "words = [words.lower() for author in renownedAuthor\n",
    "                       for paper in author.papers\n",
    "                       for words in paper.title.split()\n",
    "                       if words.lower() not in stopwords]\n",
    "words[:5]"
   ]
  },
  {
   "cell_type": "markdown",
   "id": "5a186e17",
   "metadata": {
    "id": "5a186e17"
   },
   "source": [
    "Counter을 이용해 높은 빈도를 보이는 단어를 확인."
   ]
  },
  {
   "cell_type": "code",
   "execution_count": 48,
   "id": "a5229945",
   "metadata": {
    "colab": {
     "base_uri": "https://localhost:8080/"
    },
    "id": "a5229945",
    "outputId": "2db61ea9-7f8a-4d7e-bd2a-669d5fe3b221",
    "scrolled": true
   },
   "outputs": [
    {
     "data": {
      "text/plain": [
       "[('synthesis', 495),\n",
       " ('highly', 253),\n",
       " ('carbon', 226),\n",
       " ('via', 209),\n",
       " ('organic', 207),\n",
       " ('cells', 190),\n",
       " ('solar', 188),\n",
       " ('nanoparticles', 183),\n",
       " ('mesoporous', 176),\n",
       " ('molecular', 164)]"
      ]
     },
     "execution_count": 48,
     "metadata": {},
     "output_type": "execute_result"
    }
   ],
   "source": [
    "frequentWords = Counter(words)\n",
    "frequentWords.most_common(10)"
   ]
  },
  {
   "cell_type": "code",
   "execution_count": 49,
   "id": "71d0672f",
   "metadata": {
    "colab": {
     "base_uri": "https://localhost:8080/",
     "height": 355
    },
    "id": "71d0672f",
    "outputId": "e9fc583a-c62f-4cd0-fc6a-ab074db153e3"
   },
   "outputs": [
    {
     "data": {
      "text/plain": [
       "<AxesSubplot:>"
      ]
     },
     "execution_count": 49,
     "metadata": {},
     "output_type": "execute_result"
    },
    {
     "data": {
      "image/png": "[encoded data removed]",
      "text/plain": [
       "<Figure size 432x288 with 1 Axes>"
      ]
     },
     "metadata": {
      "needs_background": "light"
     },
     "output_type": "display_data"
    }
   ],
   "source": [
    "pd.Series(frequentWords).sort_values(ascending = False)[:30].plot(kind = 'bar')"
   ]
  },
  {
   "cell_type": "markdown",
   "id": "41b05227",
   "metadata": {
    "id": "41b05227"
   },
   "source": [
    "상위 빈도 keyword 30개를 확인"
   ]
  },
  {
   "cell_type": "code",
   "execution_count": 50,
   "id": "74267376",
   "metadata": {
    "colab": {
     "base_uri": "https://localhost:8080/"
    },
    "id": "74267376",
    "outputId": "e29e5a59-92e0-4d32-eb5c-deb589573bf1"
   },
   "outputs": [
    {
     "name": "stdout",
     "output_type": "stream",
     "text": [
      "synthesis\n",
      "highly\n",
      "carbon\n",
      "via\n",
      "organic\n",
      "cells\n",
      "solar\n",
      "nanoparticles\n",
      "mesoporous\n",
      "molecular\n",
      "using\n",
      "enantioselective\n",
      "efficient\n",
      "nanocrystals\n",
      "complexes\n",
      "asymmetric\n",
      "properties\n",
      "catalytic\n",
      "metal\n",
      "framework\n",
      "quantum\n",
      "frameworks\n",
      "new\n",
      "reaction\n",
      "catalyst\n",
      "reactions\n",
      "magnetic\n",
      "surface\n",
      "selective\n",
      "high\n"
     ]
    }
   ],
   "source": [
    "print('\\n'.join(i[0] for i in frequentWords.most_common(30)))"
   ]
  },
  {
   "cell_type": "markdown",
   "id": "16a8b8b7",
   "metadata": {
    "id": "16a8b8b7"
   },
   "source": [
    "출력 결과에서 의미를 갖는 단어들을 추출할 경우 다음과 같은 list를 얻을 수 있음.\n",
    "- synthesis (합성)\n",
    "- carbon (탄소)\n",
    "- organic (유기)\n",
    "- solar (태양광)\n",
    "- nanoparticles (나노입자)\n",
    "- mesoporous (다공성의)\n",
    "- complexes (복합체)\n",
    "- nanocrystals (나노 결정)\n",
    "- assymetric (비대칭의)\n",
    "- catalytic (촉매의)\n",
    "- enantioselective (거울상 선택성)\n",
    "- surface (계면)\n",
    "- quantum (양자)\n",
    "- polymer (고분자)\n",
    "- catalyst (촉매)\n",
    "- nanotuebs (나노튜브)"
   ]
  },
  {
   "cell_type": "markdown",
   "id": "d243cf27",
   "metadata": {
    "id": "d243cf27"
   },
   "source": [
    "bi-gram을 분석하였을 경우에 유사한 결과를 보이는지 확인"
   ]
  },
  {
   "cell_type": "code",
   "execution_count": 51,
   "id": "c742f7d8",
   "metadata": {
    "colab": {
     "base_uri": "https://localhost:8080/"
    },
    "id": "c742f7d8",
    "outputId": "0f076ed5-2309-441f-8fbb-546288e4301e"
   },
   "outputs": [
    {
     "data": {
      "text/plain": [
       "[(('solar', 'cells'), 140),\n",
       " (('carbon', 'nanotubes'), 72),\n",
       " (('quantum', 'dots'), 59),\n",
       " (('dye-sensitized', 'solar'), 53),\n",
       " (('single-walled', 'carbon'), 49),\n",
       " (('metal–organic', 'framework'), 44),\n",
       " (('metal–organic', 'frameworks'), 43),\n",
       " (('mesoporous', 'silica'), 39),\n",
       " (('metal−organic', 'frameworks'), 38),\n",
       " (('highly', 'efficient'), 34)]"
      ]
     },
     "execution_count": 51,
     "metadata": {},
     "output_type": "execute_result"
    }
   ],
   "source": [
    "frequentBiGrams = Counter([(words[i],words[i+1]) for i in range(len(words)-1)])\n",
    "frequentBiGrams.most_common(10)"
   ]
  },
  {
   "cell_type": "code",
   "execution_count": 52,
   "id": "d992dc8f",
   "metadata": {
    "colab": {
     "base_uri": "https://localhost:8080/",
     "height": 419
    },
    "id": "d992dc8f",
    "outputId": "e09b7f4d-8d8a-457e-e656-3eed9ed8b41e"
   },
   "outputs": [
    {
     "data": {
      "text/plain": [
       "<AxesSubplot:>"
      ]
     },
     "execution_count": 52,
     "metadata": {},
     "output_type": "execute_result"
    },
    {
     "data": {
      "image/png": "[encoded data removed]",
      "text/plain": [
       "<Figure size 432x288 with 1 Axes>"
      ]
     },
     "metadata": {
      "needs_background": "light"
     },
     "output_type": "display_data"
    }
   ],
   "source": [
    "pd.Series(frequentBiGrams).sort_values(ascending = False)[:30].plot(kind = 'bar')"
   ]
  },
  {
   "cell_type": "code",
   "execution_count": 53,
   "id": "ffc19e94",
   "metadata": {
    "colab": {
     "base_uri": "https://localhost:8080/"
    },
    "id": "ffc19e94",
    "outputId": "459a6b2a-2bc4-478d-98a3-4235cea6e375"
   },
   "outputs": [
    {
     "name": "stdout",
     "output_type": "stream",
     "text": [
      "solar cells\n",
      "carbon nanotubes\n",
      "quantum dots\n",
      "dye-sensitized solar\n",
      "single-walled carbon\n",
      "metal–organic framework\n",
      "metal–organic frameworks\n",
      "mesoporous silica\n",
      "metal−organic frameworks\n",
      "highly efficient\n",
      "oxygen reduction\n",
      "carbon dioxide\n",
      "ordered mesoporous\n",
      "highly active\n",
      "carbon nanotube\n"
     ]
    }
   ],
   "source": [
    "print('\\n'.join(i[0]+' '+i[1] for i,_ in frequentBiGrams.most_common(15)))"
   ]
  },
  {
   "cell_type": "markdown",
   "id": "3e69ea44",
   "metadata": {
    "id": "3e69ea44"
   },
   "source": [
    "의미를 갖는 keyword를 추출할경우 다음과 같음.\n",
    "- solar cells (태양광 전지)\n",
    "    - dye-sensitized solar cells\n",
    "- carbon nanotubes (탄소 나노튜브)\n",
    "    - single-walled carbon nanotube\n",
    "- metal-organic framework (유기금속 framework)\n",
    "- mesoporous silica (다공성 실리카)\n",
    "    - ordered mesopoous silica\n",
    "- oxygen reduction (산소 환원)\n",
    "- carbon dioxide (이산화탄소)\n",
    "- highly efficient, higly active"
   ]
  },
  {
   "cell_type": "markdown",
   "id": "440d88e3",
   "metadata": {
    "id": "440d88e3"
   },
   "source": [
    "uni-gram 및 bi-gram 분석 결과를 통해 저명한 화학자가 관심을 갖는 분야에 대한 정보를 확인할 수 있었음.\n",
    "<br>저명한 화학자들이 관심 갖는 분야에 관한 논문에 대한 빈도 비교"
   ]
  },
  {
   "cell_type": "code",
   "execution_count": 54,
   "id": "e5506130",
   "metadata": {
    "id": "e5506130"
   },
   "outputs": [],
   "source": [
    "keywords = ['solar cell','carbon nanotube','metal–organic framework','mesoporous silica']"
   ]
  },
  {
   "cell_type": "code",
   "execution_count": 55,
   "id": "79a1a6ed",
   "metadata": {
    "colab": {
     "base_uri": "https://localhost:8080/"
    },
    "id": "79a1a6ed",
    "outputId": "dd99cdec-c193-422b-d133-ce4edc38124e"
   },
   "outputs": [
    {
     "data": {
      "text/plain": [
       "Counter({'solar cell': 314,\n",
       "         'carbon nanotube': 576,\n",
       "         'metal–organic framework': 313,\n",
       "         'mesoporous silica': 119})"
      ]
     },
     "execution_count": 55,
     "metadata": {},
     "output_type": "execute_result"
    }
   ],
   "source": [
    "keywordCount = Counter(keyword for keyword in keywords\n",
    "                               for title in papers.iloc[:,1].values\n",
    "                               if keyword in title.lower())\n",
    "keywordCount"
   ]
  },
  {
   "cell_type": "markdown",
   "id": "2797f939",
   "metadata": {
    "id": "2797f939"
   },
   "source": [
    "sorlar cell이 carbon nanotube보다도 논문 수가 적지만 높은 빈도를 나타내는 것을 보아 소수의 논문이 높은 인용수를 가진다고 추측할 수 있음."
   ]
  },
  {
   "cell_type": "markdown",
   "id": "9556a48c",
   "metadata": {
    "id": "9556a48c"
   },
   "source": [
    "### Chemistry Issue Tracking"
   ]
  },
  {
   "cell_type": "markdown",
   "id": "a7465a65",
   "metadata": {
    "id": "a7465a65"
   },
   "source": [
    "paper에 등록된 year 별로 keyword를 분석하여 chemical bigram of the year를 선정할 수 있음"
   ]
  },
  {
   "cell_type": "code",
   "execution_count": 56,
   "id": "55c99be9",
   "metadata": {
    "id": "55c99be9"
   },
   "outputs": [],
   "source": [
    "biOfYear = {i:[] for i in range(1996,2017)} # bigram을 보관할 dict 생성"
   ]
  },
  {
   "cell_type": "code",
   "execution_count": 57,
   "id": "f0d1385c",
   "metadata": {
    "id": "f0d1385c"
   },
   "outputs": [],
   "source": [
    "for i in range(1996,2017):\n",
    "    for paper in paperList:\n",
    "        if paper.year == i:\n",
    "            words = [word for word in paper.title.split()\n",
    "                          if word not in stopwords]\n",
    "            biOfYear[i].extend([(words[j].lower(),words[j+1].lower()) for j in range(len(words)-1)])"
   ]
  },
  {
   "cell_type": "code",
   "execution_count": 58,
   "id": "84b14867",
   "metadata": {
    "colab": {
     "base_uri": "https://localhost:8080/"
    },
    "id": "84b14867",
    "outputId": "82ece618-3345-4cde-8119-82907b047f14"
   },
   "outputs": [
    {
     "data": {
      "text/plain": [
       "[('jacs', 'spotlights—highlights'),\n",
       " ('spotlights—highlights', 'recent'),\n",
       " ('recent', 'publications'),\n",
       " ('publications', 'journal'),\n",
       " ('spotlights', 'recent'),\n",
       " ('recent', 'jacs'),\n",
       " ('jacs', 'publications'),\n",
       " ('spherical', 'nucleic'),\n",
       " ('nucleic', 'acids'),\n",
       " ('mechanistic', 'study')]"
      ]
     },
     "execution_count": 58,
     "metadata": {},
     "output_type": "execute_result"
    }
   ],
   "source": [
    "biOfYear[2012][:10]"
   ]
  },
  {
   "cell_type": "code",
   "execution_count": 59,
   "id": "f9ce5cd2",
   "metadata": {
    "colab": {
     "base_uri": "https://localhost:8080/"
    },
    "id": "f9ce5cd2",
    "outputId": "7e70aff5-03ec-4ee7-8708-d12989bc2d61"
   },
   "outputs": [
    {
     "data": {
      "text/plain": [
       "[(('new', 'york.'), 80),\n",
       " (('am.', 'chem.'), 56),\n",
       " (('chem.', 'soc.'), 56),\n",
       " (('york.', '1995.'), 56),\n",
       " (('j.', 'am.'), 54)]"
      ]
     },
     "execution_count": 59,
     "metadata": {},
     "output_type": "execute_result"
    }
   ],
   "source": [
    "yearlyBi = {i:Counter(biOfYear[i]).most_common(5) for i in range(1996,2017)}\n",
    "yearlyBi[1996]"
   ]
  },
  {
   "cell_type": "markdown",
   "id": "d757151e",
   "metadata": {
    "id": "d757151e"
   },
   "source": [
    "stopwords의 항목을 늘릴 필요가 있음을 확인"
   ]
  },
  {
   "cell_type": "code",
   "execution_count": 60,
   "id": "bd2f689e",
   "metadata": {
    "id": "bd2f689e"
   },
   "outputs": [],
   "source": [
    "stopwords.extend(['york.','a','j.','soc.','spotlights','recent','am.','chem.','new','jacs','publications'])"
   ]
  },
  {
   "cell_type": "code",
   "execution_count": 61,
   "id": "74995709",
   "metadata": {
    "colab": {
     "base_uri": "https://localhost:8080/"
    },
    "id": "74995709",
    "outputId": "946da639-a409-44e3-987e-12968274309a"
   },
   "outputs": [
    {
     "data": {
      "text/plain": [
       "{1996: 'electron transfer',\n",
       " 1997: 'ab initio',\n",
       " 1998: 'ab initio',\n",
       " 1999: 'total synthesis',\n",
       " 2000: 'total synthesis',\n",
       " 2001: 'total synthesis',\n",
       " 2002: 'total synthesis',\n",
       " 2003: 'total synthesis',\n",
       " 2004: 'electron transfer',\n",
       " 2005: 'total synthesis',\n",
       " 2006: 'total synthesis',\n",
       " 2007: 'carbon nanotubes',\n",
       " 2008: 'book review',\n",
       " 2009: 'nmr spectroscopy',\n",
       " 2010: 'total synthesis',\n",
       " 2011: 'total synthesis',\n",
       " 2012: 'carbon nanotubes',\n",
       " 2013: 'metal–organic framework',\n",
       " 2014: 'electron transfer',\n",
       " 2015: 'solar cells',\n",
       " 2016: 'total synthesis'}"
      ]
     },
     "execution_count": 61,
     "metadata": {},
     "output_type": "execute_result"
    }
   ],
   "source": [
    "def bigramOfYears(start,end):\n",
    "    biOfYear = {i:[] for i in range(start,end+1)} # bigram을 보관할 dict 생성\n",
    "    for i in range(start,end+1):\n",
    "        for paper in paperList:\n",
    "            if paper.year == i:\n",
    "                words = [word for word in paper.title.split()\n",
    "                              if word.lower() not in stopwords]\n",
    "                biOfYear[i].extend([(words[j].lower(),words[j+1].lower()) for j in range(len(words)-1)])\n",
    "    yearlyBi = {i:' '.join(Counter(biOfYear[i]).most_common(1)[0][0]) for i in range(start,end+1)}\n",
    "    return yearlyBi\n",
    "bigramOfYears(1996,2016)"
   ]
  },
  {
   "cell_type": "markdown",
   "id": "bcd5b06c",
   "metadata": {
    "id": "bcd5b06c"
   },
   "source": [
    "년도별로 가장 많이 연구된 주제를 bigram을 통해 확인할 수 있음.\n",
    "- 90년대 말\n",
    "    - ab-initio, electron transfer : 물리화학\n",
    "- 2000년대\n",
    "    - total synthesis, total synthesis: 유기화학\n",
    "- 2010년대\n",
    "    - carbon nanotubes, solar cells, metal-organic framework : 재료화학"
   ]
  },
  {
   "cell_type": "markdown",
   "id": "065ef424",
   "metadata": {
    "id": "065ef424"
   },
   "source": [
    "본 database에는 2016년 이후의 data는 반영되어있지 않음,\n",
    "<br>[JACS](https://pubs.acs.org/loi/jacsat \"JACS\")에서 전체 list of issue를 제공하고 있으므로\n",
    "<br>web crawling을 이용해 2017년부터의 논문 data를 확인"
   ]
  },
  {
   "cell_type": "markdown",
   "id": "605bf662",
   "metadata": {
    "id": "605bf662"
   },
   "source": [
    "JACS에서 issue가 저장되어있는 url의 형식은 다음과 같음.\n",
    "> Volume 139, Issue 51\n",
    "<br>https://pubs.acs.org/toc/jacsat/139/51\n",
    "\n",
    "Volumn과 Issue index를 이용해 간단히 각 Issue에 해당하는 page를 접속할 수 있음.\n",
    "- 2017년은 Vol. 139 Issue 1부터 시작\n",
    "- 2021년은 Vol. 143 Issue 51로 마무리\n",
    "- 매년 51권의 issue를 발행\n",
    "- 2020년의 경우에만 issue 52가 존재함"
   ]
  },
  {
   "cell_type": "code",
   "execution_count": 62,
   "id": "986ff8b4",
   "metadata": {
    "id": "986ff8b4"
   },
   "outputs": [],
   "source": [
    "import requests\n",
    "url = 'https://pubs.acs.org/toc/jacsat/143/51'\n",
    "req = requests.get(url)\n",
    "# req는 page의 html 정보를 저장하고 있음"
   ]
  },
  {
   "cell_type": "markdown",
   "id": "f831e0d5",
   "metadata": {
    "id": "f831e0d5"
   },
   "source": [
    "req은 접속한 page의 html 정보를 담고 있음.\n",
    "<br>Web browser의 Dev tool 기능을 사용하여 현재 페이지에서 논문 정보에 관한 정보가 저장된 형태를 확인할 수 있었음.\n",
    "<br>RegEx를 이용하여 html로부터 data를 직접 추출"
   ]
  },
  {
   "cell_type": "code",
   "execution_count": 63,
   "id": "954a1f16",
   "metadata": {
    "colab": {
     "base_uri": "https://localhost:8080/"
    },
    "id": "954a1f16",
    "outputId": "fde75407-013e-46e2-f8df-cad2a831e3c3"
   },
   "outputs": [
    {
     "data": {
      "text/plain": [
       "['Spotlights on Recent JACS Publications',\n",
       " 'Controlling Nucleation Pathways in Zeolite Crystallization: Seeding Conceptual Methodologies for Advanced Materials Design',\n",
       " 'Harnessing the Power of Force: Development of Mechanophores for Molecular Release',\n",
       " 'Ultrafast Intersystem Crossing in Xanthone from Wavepacket Dynamics',\n",
       " 'Designing a Solution-Stable Distannene: The Decisive Role of London Dispersion Effects in the Structure and Properties of {Sn(C6H2-2,4,6-Cy3)2}2 (Cy = Cyclohexyl)']"
      ]
     },
     "execution_count": 63,
     "metadata": {},
     "output_type": "execute_result"
    }
   ],
   "source": [
    "parser = re.compile('<h5 class=\"issue-item_title\"><a href=\".*?\" title=\"(.+?)\" id')\n",
    "parser.findall(req.text)[:5]\n",
    "# 논문 제목이 올바르게 추출되었음을 확인할 수 있음"
   ]
  },
  {
   "cell_type": "markdown",
   "id": "6222820d",
   "metadata": {
    "id": "6222820d"
   },
   "source": [
    "반복문을 통해 각 issue별 논문 제목을 년도에 따라 저장할 수 있음."
   ]
  },
  {
   "cell_type": "code",
   "execution_count": 64,
   "id": "5bc16cf7",
   "metadata": {
    "id": "5bc16cf7"
   },
   "outputs": [],
   "source": [
    "@checkTime\n",
    "def titleCrawl(verbose):\n",
    "    titles = {i:[] for i in range(2017,2022)}\n",
    "    for vol in range(139,144):\n",
    "        numIsu = 52 if vol == 142 else 51\n",
    "        for issue in range(1,numIsu+1):\n",
    "            url = f'https://pubs.acs.org/toc/jacsat/{vol}/{issue}'\n",
    "            req = requests.get(url)\n",
    "            titles[2017 + vol - 139].extend(parser.findall(req.text))\n",
    "            if verbose: print(f'Finished getting data from Vol. {vol} Issue {issue}')\n",
    "    return titles"
   ]
  },
  {
   "cell_type": "code",
   "execution_count": 65,
   "id": "aed25c38",
   "metadata": {
    "colab": {
     "base_uri": "https://localhost:8080/"
    },
    "id": "aed25c38",
    "outputId": "41f759c8-5269-48ce-b574-7981f9b4ab57"
   },
   "outputs": [
    {
     "name": "stdout",
     "output_type": "stream",
     "text": [
      "Finished getting data from Vol. 139 Issue 1\n",
      "Finished getting data from Vol. 139 Issue 2\n",
      "Finished getting data from Vol. 139 Issue 3\n",
      "Finished getting data from Vol. 139 Issue 4\n",
      "Finished getting data from Vol. 139 Issue 5\n",
      "Finished getting data from Vol. 139 Issue 6\n",
      "Finished getting data from Vol. 139 Issue 7\n",
      "Finished getting data from Vol. 139 Issue 8\n",
      "Finished getting data from Vol. 139 Issue 9\n",
      "Finished getting data from Vol. 139 Issue 10\n",
      "Finished getting data from Vol. 139 Issue 11\n",
      "Finished getting data from Vol. 139 Issue 12\n",
      "Finished getting data from Vol. 139 Issue 13\n",
      "Finished getting data from Vol. 139 Issue 14\n",
      "Finished getting data from Vol. 139 Issue 15\n",
      "Finished getting data from Vol. 139 Issue 16\n",
      "Finished getting data from Vol. 139 Issue 17\n",
      "Finished getting data from Vol. 139 Issue 18\n",
      "Finished getting data from Vol. 139 Issue 19\n",
      "Finished getting data from Vol. 139 Issue 20\n",
      "Finished getting data from Vol. 139 Issue 21\n",
      "Finished getting data from Vol. 139 Issue 22\n",
      "Finished getting data from Vol. 139 Issue 23\n",
      "Finished getting data from Vol. 139 Issue 24\n",
      "Finished getting data from Vol. 139 Issue 25\n",
      "Finished getting data from Vol. 139 Issue 26\n",
      "Finished getting data from Vol. 139 Issue 27\n",
      "Finished getting data from Vol. 139 Issue 28\n",
      "Finished getting data from Vol. 139 Issue 29\n",
      "Finished getting data from Vol. 139 Issue 30\n",
      "Finished getting data from Vol. 139 Issue 31\n",
      "Finished getting data from Vol. 139 Issue 32\n",
      "Finished getting data from Vol. 139 Issue 33\n",
      "Finished getting data from Vol. 139 Issue 34\n",
      "Finished getting data from Vol. 139 Issue 35\n",
      "Finished getting data from Vol. 139 Issue 36\n",
      "Finished getting data from Vol. 139 Issue 37\n",
      "Finished getting data from Vol. 139 Issue 38\n",
      "Finished getting data from Vol. 139 Issue 39\n",
      "Finished getting data from Vol. 139 Issue 40\n",
      "Finished getting data from Vol. 139 Issue 41\n",
      "Finished getting data from Vol. 139 Issue 42\n",
      "Finished getting data from Vol. 139 Issue 43\n",
      "Finished getting data from Vol. 139 Issue 44\n",
      "Finished getting data from Vol. 139 Issue 45\n",
      "Finished getting data from Vol. 139 Issue 46\n",
      "Finished getting data from Vol. 139 Issue 47\n",
      "Finished getting data from Vol. 139 Issue 48\n",
      "Finished getting data from Vol. 139 Issue 49\n",
      "Finished getting data from Vol. 139 Issue 50\n",
      "Finished getting data from Vol. 139 Issue 51\n",
      "Finished getting data from Vol. 140 Issue 1\n",
      "Finished getting data from Vol. 140 Issue 2\n",
      "Finished getting data from Vol. 140 Issue 3\n",
      "Finished getting data from Vol. 140 Issue 4\n",
      "Finished getting data from Vol. 140 Issue 5\n",
      "Finished getting data from Vol. 140 Issue 6\n",
      "Finished getting data from Vol. 140 Issue 7\n",
      "Finished getting data from Vol. 140 Issue 8\n",
      "Finished getting data from Vol. 140 Issue 9\n",
      "Finished getting data from Vol. 140 Issue 10\n",
      "Finished getting data from Vol. 140 Issue 11\n",
      "Finished getting data from Vol. 140 Issue 12\n",
      "Finished getting data from Vol. 140 Issue 13\n",
      "Finished getting data from Vol. 140 Issue 14\n",
      "Finished getting data from Vol. 140 Issue 15\n",
      "Finished getting data from Vol. 140 Issue 16\n",
      "Finished getting data from Vol. 140 Issue 17\n",
      "Finished getting data from Vol. 140 Issue 18\n",
      "Finished getting data from Vol. 140 Issue 19\n",
      "Finished getting data from Vol. 140 Issue 20\n",
      "Finished getting data from Vol. 140 Issue 21\n",
      "Finished getting data from Vol. 140 Issue 22\n",
      "Finished getting data from Vol. 140 Issue 23\n",
      "Finished getting data from Vol. 140 Issue 24\n",
      "Finished getting data from Vol. 140 Issue 25\n",
      "Finished getting data from Vol. 140 Issue 26\n",
      "Finished getting data from Vol. 140 Issue 27\n",
      "Finished getting data from Vol. 140 Issue 28\n",
      "Finished getting data from Vol. 140 Issue 29\n",
      "Finished getting data from Vol. 140 Issue 30\n",
      "Finished getting data from Vol. 140 Issue 31\n",
      "Finished getting data from Vol. 140 Issue 32\n",
      "Finished getting data from Vol. 140 Issue 33\n",
      "Finished getting data from Vol. 140 Issue 34\n",
      "Finished getting data from Vol. 140 Issue 35\n",
      "Finished getting data from Vol. 140 Issue 36\n",
      "Finished getting data from Vol. 140 Issue 37\n",
      "Finished getting data from Vol. 140 Issue 38\n",
      "Finished getting data from Vol. 140 Issue 39\n",
      "Finished getting data from Vol. 140 Issue 40\n",
      "Finished getting data from Vol. 140 Issue 41\n",
      "Finished getting data from Vol. 140 Issue 42\n",
      "Finished getting data from Vol. 140 Issue 43\n",
      "Finished getting data from Vol. 140 Issue 44\n",
      "Finished getting data from Vol. 140 Issue 45\n",
      "Finished getting data from Vol. 140 Issue 46\n",
      "Finished getting data from Vol. 140 Issue 47\n",
      "Finished getting data from Vol. 140 Issue 48\n",
      "Finished getting data from Vol. 140 Issue 49\n",
      "Finished getting data from Vol. 140 Issue 50\n",
      "Finished getting data from Vol. 140 Issue 51\n",
      "Finished getting data from Vol. 141 Issue 1\n",
      "Finished getting data from Vol. 141 Issue 2\n",
      "Finished getting data from Vol. 141 Issue 3\n",
      "Finished getting data from Vol. 141 Issue 4\n",
      "Finished getting data from Vol. 141 Issue 5\n",
      "Finished getting data from Vol. 141 Issue 6\n",
      "Finished getting data from Vol. 141 Issue 7\n",
      "Finished getting data from Vol. 141 Issue 8\n",
      "Finished getting data from Vol. 141 Issue 9\n",
      "Finished getting data from Vol. 141 Issue 10\n",
      "Finished getting data from Vol. 141 Issue 11\n",
      "Finished getting data from Vol. 141 Issue 12\n",
      "Finished getting data from Vol. 141 Issue 13\n",
      "Finished getting data from Vol. 141 Issue 14\n",
      "Finished getting data from Vol. 141 Issue 15\n",
      "Finished getting data from Vol. 141 Issue 16\n",
      "Finished getting data from Vol. 141 Issue 17\n",
      "Finished getting data from Vol. 141 Issue 18\n",
      "Finished getting data from Vol. 141 Issue 19\n",
      "Finished getting data from Vol. 141 Issue 20\n",
      "Finished getting data from Vol. 141 Issue 21\n",
      "Finished getting data from Vol. 141 Issue 22\n",
      "Finished getting data from Vol. 141 Issue 23\n",
      "Finished getting data from Vol. 141 Issue 24\n",
      "Finished getting data from Vol. 141 Issue 25\n",
      "Finished getting data from Vol. 141 Issue 26\n",
      "Finished getting data from Vol. 141 Issue 27\n",
      "Finished getting data from Vol. 141 Issue 28\n",
      "Finished getting data from Vol. 141 Issue 29\n",
      "Finished getting data from Vol. 141 Issue 30\n",
      "Finished getting data from Vol. 141 Issue 31\n",
      "Finished getting data from Vol. 141 Issue 32\n",
      "Finished getting data from Vol. 141 Issue 33\n",
      "Finished getting data from Vol. 141 Issue 34\n",
      "Finished getting data from Vol. 141 Issue 35\n",
      "Finished getting data from Vol. 141 Issue 36\n",
      "Finished getting data from Vol. 141 Issue 37\n",
      "Finished getting data from Vol. 141 Issue 38\n",
      "Finished getting data from Vol. 141 Issue 39\n",
      "Finished getting data from Vol. 141 Issue 40\n",
      "Finished getting data from Vol. 141 Issue 41\n",
      "Finished getting data from Vol. 141 Issue 42\n",
      "Finished getting data from Vol. 141 Issue 43\n",
      "Finished getting data from Vol. 141 Issue 44\n",
      "Finished getting data from Vol. 141 Issue 45\n",
      "Finished getting data from Vol. 141 Issue 46\n",
      "Finished getting data from Vol. 141 Issue 47\n",
      "Finished getting data from Vol. 141 Issue 48\n",
      "Finished getting data from Vol. 141 Issue 49\n",
      "Finished getting data from Vol. 141 Issue 50\n",
      "Finished getting data from Vol. 141 Issue 51\n",
      "Finished getting data from Vol. 142 Issue 1\n",
      "Finished getting data from Vol. 142 Issue 2\n",
      "Finished getting data from Vol. 142 Issue 3\n",
      "Finished getting data from Vol. 142 Issue 4\n",
      "Finished getting data from Vol. 142 Issue 5\n",
      "Finished getting data from Vol. 142 Issue 6\n",
      "Finished getting data from Vol. 142 Issue 7\n",
      "Finished getting data from Vol. 142 Issue 8\n",
      "Finished getting data from Vol. 142 Issue 9\n",
      "Finished getting data from Vol. 142 Issue 10\n",
      "Finished getting data from Vol. 142 Issue 11\n",
      "Finished getting data from Vol. 142 Issue 12\n",
      "Finished getting data from Vol. 142 Issue 13\n",
      "Finished getting data from Vol. 142 Issue 14\n",
      "Finished getting data from Vol. 142 Issue 15\n",
      "Finished getting data from Vol. 142 Issue 16\n",
      "Finished getting data from Vol. 142 Issue 17\n",
      "Finished getting data from Vol. 142 Issue 18\n",
      "Finished getting data from Vol. 142 Issue 19\n",
      "Finished getting data from Vol. 142 Issue 20\n",
      "Finished getting data from Vol. 142 Issue 21\n",
      "Finished getting data from Vol. 142 Issue 22\n",
      "Finished getting data from Vol. 142 Issue 23\n",
      "Finished getting data from Vol. 142 Issue 24\n",
      "Finished getting data from Vol. 142 Issue 25\n",
      "Finished getting data from Vol. 142 Issue 26\n",
      "Finished getting data from Vol. 142 Issue 27\n",
      "Finished getting data from Vol. 142 Issue 28\n",
      "Finished getting data from Vol. 142 Issue 29\n",
      "Finished getting data from Vol. 142 Issue 30\n"
     ]
    },
    {
     "name": "stdout",
     "output_type": "stream",
     "text": [
      "Finished getting data from Vol. 142 Issue 31\n",
      "Finished getting data from Vol. 142 Issue 32\n",
      "Finished getting data from Vol. 142 Issue 33\n",
      "Finished getting data from Vol. 142 Issue 34\n",
      "Finished getting data from Vol. 142 Issue 35\n",
      "Finished getting data from Vol. 142 Issue 36\n",
      "Finished getting data from Vol. 142 Issue 37\n",
      "Finished getting data from Vol. 142 Issue 38\n",
      "Finished getting data from Vol. 142 Issue 39\n",
      "Finished getting data from Vol. 142 Issue 40\n",
      "Finished getting data from Vol. 142 Issue 41\n",
      "Finished getting data from Vol. 142 Issue 42\n",
      "Finished getting data from Vol. 142 Issue 43\n",
      "Finished getting data from Vol. 142 Issue 44\n",
      "Finished getting data from Vol. 142 Issue 45\n",
      "Finished getting data from Vol. 142 Issue 46\n",
      "Finished getting data from Vol. 142 Issue 47\n",
      "Finished getting data from Vol. 142 Issue 48\n",
      "Finished getting data from Vol. 142 Issue 49\n",
      "Finished getting data from Vol. 142 Issue 50\n",
      "Finished getting data from Vol. 142 Issue 51\n",
      "Finished getting data from Vol. 142 Issue 52\n",
      "Finished getting data from Vol. 143 Issue 1\n",
      "Finished getting data from Vol. 143 Issue 2\n",
      "Finished getting data from Vol. 143 Issue 3\n",
      "Finished getting data from Vol. 143 Issue 4\n",
      "Finished getting data from Vol. 143 Issue 5\n",
      "Finished getting data from Vol. 143 Issue 6\n",
      "Finished getting data from Vol. 143 Issue 7\n",
      "Finished getting data from Vol. 143 Issue 8\n",
      "Finished getting data from Vol. 143 Issue 9\n",
      "Finished getting data from Vol. 143 Issue 10\n",
      "Finished getting data from Vol. 143 Issue 11\n",
      "Finished getting data from Vol. 143 Issue 12\n",
      "Finished getting data from Vol. 143 Issue 13\n",
      "Finished getting data from Vol. 143 Issue 14\n",
      "Finished getting data from Vol. 143 Issue 15\n",
      "Finished getting data from Vol. 143 Issue 16\n",
      "Finished getting data from Vol. 143 Issue 17\n",
      "Finished getting data from Vol. 143 Issue 18\n",
      "Finished getting data from Vol. 143 Issue 19\n",
      "Finished getting data from Vol. 143 Issue 20\n",
      "Finished getting data from Vol. 143 Issue 21\n",
      "Finished getting data from Vol. 143 Issue 22\n",
      "Finished getting data from Vol. 143 Issue 23\n",
      "Finished getting data from Vol. 143 Issue 24\n",
      "Finished getting data from Vol. 143 Issue 25\n",
      "Finished getting data from Vol. 143 Issue 26\n",
      "Finished getting data from Vol. 143 Issue 27\n",
      "Finished getting data from Vol. 143 Issue 28\n",
      "Finished getting data from Vol. 143 Issue 29\n",
      "Finished getting data from Vol. 143 Issue 30\n",
      "Finished getting data from Vol. 143 Issue 31\n",
      "Finished getting data from Vol. 143 Issue 32\n",
      "Finished getting data from Vol. 143 Issue 33\n",
      "Finished getting data from Vol. 143 Issue 34\n",
      "Finished getting data from Vol. 143 Issue 35\n",
      "Finished getting data from Vol. 143 Issue 36\n",
      "Finished getting data from Vol. 143 Issue 37\n",
      "Finished getting data from Vol. 143 Issue 38\n",
      "Finished getting data from Vol. 143 Issue 39\n",
      "Finished getting data from Vol. 143 Issue 40\n",
      "Finished getting data from Vol. 143 Issue 41\n",
      "Finished getting data from Vol. 143 Issue 42\n",
      "Finished getting data from Vol. 143 Issue 43\n",
      "Finished getting data from Vol. 143 Issue 44\n",
      "Finished getting data from Vol. 143 Issue 45\n",
      "Finished getting data from Vol. 143 Issue 46\n",
      "Finished getting data from Vol. 143 Issue 47\n",
      "Finished getting data from Vol. 143 Issue 48\n",
      "Finished getting data from Vol. 143 Issue 49\n",
      "Finished getting data from Vol. 143 Issue 50\n",
      "Finished getting data from Vol. 143 Issue 51\n",
      "Execution time of function titleCrawl: 649.813\n"
     ]
    }
   ],
   "source": [
    "titles = titleCrawl(verbose = True)"
   ]
  },
  {
   "cell_type": "code",
   "execution_count": 66,
   "id": "ab9ffee8",
   "metadata": {
    "colab": {
     "base_uri": "https://localhost:8080/"
    },
    "id": "ab9ffee8",
    "outputId": "d2e21325-dbb1-46c0-97a6-f9f0e4f9ade0"
   },
   "outputs": [
    {
     "data": {
      "text/plain": [
       "['Spotlights on Recent JACS Publications',\n",
       " 'Recent Advances in the Preparation and Application of Allylboron Species in Organic Synthesis',\n",
       " 'Polymer-Stabilized Perfluorobutane Nanodroplets for Ultrasound Imaging Agents',\n",
       " 'Hexaaminobenzene as a building block for a Family of 2D Coordination Polymers',\n",
       " 'Indole Synthesis via Cyclative Formation of 2,3-Dizincioindoles and Regioselective Electrophilic Trapping']"
      ]
     },
     "execution_count": 66,
     "metadata": {},
     "output_type": "execute_result"
    }
   ],
   "source": [
    "titles[2017][:5]"
   ]
  },
  {
   "cell_type": "code",
   "execution_count": 67,
   "id": "d0ddf49b",
   "metadata": {
    "id": "d0ddf49b"
   },
   "outputs": [],
   "source": [
    "try:\n",
    "    pickle.dump(titles,open('contemporary_titles.dat','wb'))\n",
    "except RecursionError:\n",
    "    print(\"An RecursionError Occured : Your files aren't saved. Proceed with care.\")\n",
    "  # 컴퓨터 환경에 따라 대용량의 file 저장 불가능할 수 있음"
   ]
  },
  {
   "cell_type": "code",
   "execution_count": 68,
   "id": "hpHmoSAHuyzl",
   "metadata": {
    "id": "hpHmoSAHuyzl"
   },
   "outputs": [],
   "source": [
    "stopwords.extend(['issue','editorial','publication'])"
   ]
  },
  {
   "cell_type": "code",
   "execution_count": 69,
   "id": "fee9e344",
   "metadata": {
    "colab": {
     "base_uri": "https://localhost:8080/"
    },
    "id": "fee9e344",
    "outputId": "0f643363-ddea-44fe-9114-d40af41cde7e"
   },
   "outputs": [
    {
     "data": {
      "text/plain": [
       "{2017: 'metal–organic frameworks',\n",
       " 2018: 'metal–organic framework',\n",
       " 2019: 'metal–organic frameworks',\n",
       " 2020: 'covalent organic',\n",
       " 2021: 'metal–organic framework'}"
      ]
     },
     "execution_count": 69,
     "metadata": {},
     "output_type": "execute_result"
    }
   ],
   "source": [
    "bigramOfYears = {}\n",
    "for i in range(2017,2022):\n",
    "    bigrams = []\n",
    "    for title in titles[i]:\n",
    "        words = [word.lower() for word in title.split()\n",
    "                              if word.lower() not in stopwords]\n",
    "        bigrams.extend([(words[j],words[j+1]) for j in range(len(words)-1)])\n",
    "    bigramOfYears[i] = ' '.join(Counter(bigrams).most_common()[0][0])\n",
    "bigramOfYears"
   ]
  },
  {
   "cell_type": "markdown",
   "id": "J9x2zgurvBax",
   "metadata": {
    "id": "J9x2zgurvBax"
   },
   "source": [
    "2010년대 중반~2020년대 초반 가장 활발한 연구가 진행되는 분야는 metal-organic framework이며, 2010년대 초반보다 확실히 그 비율이 증가했음을 확인할 수 있음."
   ]
  },
  {
   "cell_type": "markdown",
   "id": "B4M9iJiGv8k8",
   "metadata": {
    "id": "B4M9iJiGv8k8"
   },
   "source": [
    "작년 한해 인기있던 연구 주제를 살펴보면 다음과 같음"
   ]
  },
  {
   "cell_type": "code",
   "execution_count": 70,
   "id": "ea7cyD_UvYBe",
   "metadata": {
    "colab": {
     "base_uri": "https://localhost:8080/"
    },
    "id": "ea7cyD_UvYBe",
    "outputId": "7530156c-98a9-4915-fdea-fc5c899ad1a6"
   },
   "outputs": [
    {
     "data": {
      "text/plain": [
       "[('metal–organic framework', 43),\n",
       " ('total synthesis', 36),\n",
       " ('metal–organic frameworks', 34),\n",
       " ('covalent organic', 30),\n",
       " ('electron transfer', 25),\n",
       " ('organic frameworks', 18),\n",
       " ('co2 reduction', 17),\n",
       " ('organic framework', 16),\n",
       " ('solar cells', 15),\n",
       " ('hydrogen evolution', 14),\n",
       " ('oxygen reduction', 14),\n",
       " ('total syntheses', 12),\n",
       " ('machine learning', 12),\n",
       " ('enantioselective synthesis', 11),\n",
       " ('bond activation', 11),\n",
       " ('transition metal', 11),\n",
       " ('proton-coupled electron', 11),\n",
       " ('water oxidation', 11),\n",
       " ('highly efficient', 11),\n",
       " ('charge transfer', 10)]"
      ]
     },
     "execution_count": 70,
     "metadata": {},
     "output_type": "execute_result"
    }
   ],
   "source": [
    "[(' '.join(i),freq) for i, freq in Counter(bigrams).most_common(20)]"
   ]
  },
  {
   "cell_type": "code",
   "execution_count": 71,
   "id": "Wm_dDp_LwCrf",
   "metadata": {
    "colab": {
     "base_uri": "https://localhost:8080/",
     "height": 404
    },
    "id": "Wm_dDp_LwCrf",
    "outputId": "b8038bd7-ed88-4588-86ba-92a6dbbe57d2"
   },
   "outputs": [
    {
     "data": {
      "image/png": "[encoded data removed]",
      "text/plain": [
       "<Figure size 432x288 with 1 Axes>"
      ]
     },
     "metadata": {
      "needs_background": "light"
     },
     "output_type": "display_data"
    }
   ],
   "source": [
    "plt.bar(x = range(0,20), height = [freq for i, freq in Counter(bigrams).most_common(20)], color = 'C2')\n",
    "plt.xticks(range(0,20),\n",
    "          [' '.join(i) for i,freq in Counter(bigrams).most_common(20)],\n",
    "          rotation = 80)\n",
    "plt.title('Top Topics of 2021')\n",
    "plt.ylabel('Frequency')\n",
    "plt.annotate(\"Machine\\nLearning!\", xy = (12,12), xytext = (13,20),\n",
    "             arrowprops = dict(arrowstyle = '->', linestyle = 'dashed', linewidth = 3),\n",
    "             fontsize = '20', horizontalalignment = 'left')\n",
    "plt.show()"
   ]
  },
  {
   "cell_type": "markdown",
   "id": "44Uey5bpzHwQ",
   "metadata": {
    "id": "44Uey5bpzHwQ"
   },
   "source": [
    "작년 한 해 Machine Learning을 이용한 화학 연구도 활발하게 진행되었음."
   ]
  }
 ],
 "metadata": {
  "colab": {
   "collapsed_sections": [],
   "name": "Project.ipynb",
   "provenance": []
  },
  "interpreter": {
   "hash": "09e6e4c4ff8aa03a8b3f1e127cf738ae27b5ac42adaaf06db80d83b06d122108"
  },
  "kernelspec": {
   "display_name": "Python 3 (ipykernel)",
   "language": "python",
   "name": "python3"
  },
  "language_info": {
   "codemirror_mode": {
    "name": "ipython",
    "version": 3
   },
   "file_extension": ".py",
   "mimetype": "text/x-python",
   "name": "python",
   "nbconvert_exporter": "python",
   "pygments_lexer": "ipython3",
   "version": "3.10.5"
  }
 },
 "nbformat": 4,
 "nbformat_minor": 5
}
